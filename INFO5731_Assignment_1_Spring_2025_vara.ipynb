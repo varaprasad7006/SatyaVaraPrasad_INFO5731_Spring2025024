{
  "cells": [
    {
      "cell_type": "markdown",
      "metadata": {
        "id": "view-in-github",
        "colab_type": "text"
      },
      "source": [
        "<a href=\"https://colab.research.google.com/github/varaprasad7006/SatyaVaraPrasad_INFO5731_Spring2025024/blob/main/INFO5731_Assignment_1_Spring_2025_vara.ipynb\" target=\"_parent\"><img src=\"https://colab.research.google.com/assets/colab-badge.svg\" alt=\"Open In Colab\"/></a>"
      ]
    },
    {
      "cell_type": "markdown",
      "source": [
        "#by satya varaprasad namala\n",
        "[colab link](https://colab.research.google.com/drive/1OFYXKQT3zBlnQlQoM-x7bMOatq43wAbb?usp=sharing)"
      ],
      "metadata": {
        "id": "OwFIgn09bIXK"
      }
    },
    {
      "cell_type": "markdown",
      "metadata": {
        "id": "Ryk8D1Q4Wsrp"
      },
      "source": [
        "# **INFO5731 Assignment - 1**"
      ]
    },
    {
      "cell_type": "markdown",
      "source": [],
      "metadata": {
        "id": "Qxeo5NwjbUF4"
      }
    },
    {
      "cell_type": "markdown",
      "source": [
        "This assignment includes range of programming tasks and data analysis exercises, aiming to enhance your Python skills and proficiency in string manipulation, numerical computations, and data science. Follow the instructions carefully and design well-structured Python programs to address each question.\n",
        "\n",
        "\n",
        "1.  Question 1-5 using AI assistance is strictly prohibted\n",
        "2.  Question 6-7 AI assitance is recommended by following guidelines.\n",
        "\n",
        "Guidelines and expectations file can be found in week 2 module.\n",
        "\n",
        "Late Submission will have a penalty of 10% reduction for each day after the deadline."
      ],
      "metadata": {
        "id": "qcP6re2g5A5r"
      }
    },
    {
      "cell_type": "markdown",
      "metadata": {
        "id": "JkzR8cFAyGik"
      },
      "source": [
        "# Question 1 (10 points).\n",
        "\n",
        "The formula that describes the volume V of a hemisphere with radius r is the following:\n",
        "\n",
        "$ V=\\frac{2}{3}\\ast\\ \\pi\\ast\\ r^3 $\n",
        "\n",
        "Write a program to calculate the value of V when r is in the range of even numbers from 1-20. Output the result in the following format:\n",
        "\n",
        "\tr\tV\n",
        "\t2\t…\n",
        "\t4\t…\n",
        "\t6\t…\n",
        "\t.\n",
        "\t.\n",
        "\t.\n",
        "\t20\t…\n"
      ]
    },
    {
      "cell_type": "code",
      "execution_count": 1,
      "metadata": {
        "id": "jDyTKYs-yGit",
        "colab": {
          "base_uri": "https://localhost:8080/"
        },
        "outputId": "3e324c32-5bf7-419e-8343-ecb3c18f15ea"
      },
      "outputs": [
        {
          "output_type": "stream",
          "name": "stdout",
          "text": [
            "For r = 2, V = 16.76\n",
            "For r = 4, V = 134.04\n",
            "For r = 6, V = 452.39\n",
            "For r = 8, V = 1072.33\n",
            "For r = 10, V = 2094.39\n",
            "For r = 12, V = 3619.11\n",
            "For r = 14, V = 5747.02\n",
            "For r = 16, V = 8578.64\n",
            "For r = 18, V = 12214.5\n",
            "For r = 20, V = 16755.15\n"
          ]
        }
      ],
      "source": [
        "# Your code here\n",
        "\n",
        "pi = 3.14159\n",
        "for r in range(2, 21, 2):\n",
        "    V = (2/3) * pi * (r ** 3)\n",
        "    print(\"For r =\", r, end=\", \")\n",
        "    print(\"V =\", round(V, 2))\n",
        "\n"
      ]
    },
    {
      "cell_type": "markdown",
      "metadata": {
        "id": "90_NR8c5XGWc"
      },
      "source": [
        "# Question 2 (10 points)\n",
        "\n",
        "(a) Write a Python program to generate a sequence of 12 random numbers falling within the range of 50 to 150.\n",
        "\n",
        "(b) Arrange the generated numbers in ascending order. Display the sorted list.\n",
        "\n",
        "(c) Extend the program to arrange the numbers in descending order as well. Present the sorted list accordingly.\n",
        "\n",
        "(d) Compute and output the average of the entire group of generated numbers.\n",
        "\n",
        "(e) Enhance the program to calculate and display the average of the first 6 numbers from both the ascending and descending sorted lists."
      ]
    },
    {
      "cell_type": "code",
      "execution_count": 3,
      "metadata": {
        "id": "5QX6bJjGWXY9",
        "colab": {
          "base_uri": "https://localhost:8080/"
        },
        "outputId": "74163a08-52df-47bb-aece-4c2cc1104e4e"
      },
      "outputs": [
        {
          "output_type": "stream",
          "name": "stdout",
          "text": [
            "Generated_numbers: [56, 66, 96, 123, 127, 81, 94, 121, 146, 68, 146, 95]\n",
            "Ascending_order: [56, 66, 68, 81, 94, 95, 96, 121, 123, 127, 146, 146]\n",
            "Descending_order: [146, 146, 127, 123, 121, 96, 95, 94, 81, 68, 66, 56]\n",
            "Avg of all numbers: 101.58\n",
            "Avg of first 6 numbers in ascending order: 76.67\n",
            "Avg of first 6 numbers in descending order: 126.5\n"
          ]
        }
      ],
      "source": [
        "# Write code for each of the sub parts with proper comments.\n",
        "\n",
        "import random\n",
        "\n",
        "# (a) Generate 12 random numbers within the range of 50 to 150\n",
        "num = [random.randint(50, 150) for _ in range(12)]\n",
        "print(\"Generated_numbers:\", end=\" \")\n",
        "print(num)\n",
        "\n",
        "# (b) Sort the numbers in ascending order\n",
        "ascnum = sorted(num)\n",
        "print(\"Ascending_order:\", end=\" \")\n",
        "print(ascnum)\n",
        "\n",
        "# (c) Sort the numbers in descending order\n",
        "descnum = sorted(num, reverse=True)\n",
        "print(\"Descending_order:\", end=\" \")\n",
        "print(descnum)\n",
        "\n",
        "# (d) Compute and display the average of all generated numbers\n",
        "avg = sum(num) / len(num)\n",
        "print(\"Avg of all numbers:\", end=\" \")\n",
        "print(round(avg, 2))\n",
        "\n",
        "# (e) Compute the average of the first 6 numbers from both sorted lists\n",
        "avg6asc = sum(ascnum[:6]) / 6\n",
        "avg6desc = sum(descnum[:6]) / 6\n",
        "print(\"Avg of first 6 numbers in ascending order:\", end=\" \")\n",
        "print(round(avg6asc, 2))\n",
        "print(\"Avg of first 6 numbers in descending order:\", end=\" \")\n",
        "print(round(avg6desc, 2))\n"
      ]
    },
    {
      "cell_type": "markdown",
      "metadata": {
        "id": "1F_PZdH9Sh49"
      },
      "source": [
        "# Question 3 (10 points).\n",
        "\n",
        "Create a Python program that encompasses various string manipulation task:\n",
        "\n",
        "(a) Prompt the user to input two sentences.\n",
        "\n",
        "(b) Transform each sentence into a list, where each element corresponds to a word in the sentence. For example, if the sentences are \"Hello, how are you doing today?\" and \"This is an example sentence for the program!\"\n",
        "\n",
        "The program should output:\n",
        "['Hello', ',', 'how', 'are', 'you', 'doing', 'today', '?', 'This', 'is', 'an', 'example', 'sentence', 'for', 'the', 'program', '!']\n",
        "\n",
        "(c) Compare the two sentences. Print out a list of words that occur in both sentences.\n",
        "\n",
        "(d) Remove any punctuation from the sentence and print the sanitized sentences. It should remove at least the following characters, but it can remove more: period(“.”), comma (“,”), semicolon (“;”), and colon (“:”).\n",
        "\n",
        "(e) Count the number of vowels in each of the sentences. Print out each vowel and the occurrences  in the each of the two sentences separately, such as:\n",
        "\n",
        "Sentence1: a:2, e:2, i:0, etc.\n",
        "Sentence2: a:1, e:2, i:2, etc.\n",
        "\n",
        "Design a well-structured Python program to execute these tasks efficiently."
      ]
    },
    {
      "cell_type": "code",
      "execution_count": 4,
      "metadata": {
        "id": "Y0oOSlsOS0cq",
        "colab": {
          "base_uri": "https://localhost:8080/"
        },
        "outputId": "98ffc5cc-5f91-42f6-80de-845b467fe2d6"
      },
      "outputs": [
        {
          "output_type": "stream",
          "name": "stdout",
          "text": [
            "Enter first sentence: ihpohuiohu\\b uh[ouh\\\n",
            "Enter second sentence: k;jbpbpiub oujbo\n",
            "List of words: ['ihpohuiohu\\\\b', 'uh[ouh\\\\', 'k;jbpbpiub', 'oujbo']\n",
            "Common words in both sentences: []\n",
            "Sanitized first sentence: ihpohuiohub uhouh\n",
            "Sanitized second sentence: kjbpbpiub oujbo\n",
            "Vowel counts in first sentence: {'i': 2, 'o': 3, 'u': 4}\n",
            "Vowel counts in second sentence: {'i': 1, 'o': 2, 'u': 2}\n"
          ]
        }
      ],
      "source": [
        "# Your code here\n",
        "\n",
        "import string\n",
        "\n",
        "# (a) Prompt user for two sentences\n",
        "sentence1 = input(\"Enter first sentence: \")\n",
        "sentence2 = input(\"Enter second sentence: \")\n",
        "\n",
        "# (b) Convert sentences into lists of words including punctuation\n",
        "words_list = sentence1.split() + sentence2.split()\n",
        "print(\"List of words:\", words_list)\n",
        "\n",
        "# (c) Find common words between both sentences\n",
        "set1 = set(sentence1.split())\n",
        "set2 = set(sentence2.split())\n",
        "common_words = list(set1.intersection(set2))\n",
        "print(\"Common words in both sentences:\", common_words)\n",
        "\n",
        "# (d) Remove punctuation from sentences\n",
        "translator = str.maketrans(\"\", \"\", string.punctuation)\n",
        "sanitized1 = sentence1.translate(translator)\n",
        "sanitized2 = sentence2.translate(translator)\n",
        "print(\"Sanitized first sentence:\", sanitized1)\n",
        "print(\"Sanitized second sentence:\", sanitized2)\n",
        "\n",
        "# (e) Count vowels in each sentence\n",
        "vowels = \"aeiouAEIOU\"\n",
        "\n",
        "def count_vowels(sentence):\n",
        "    sentence = sentence.lower()  # Convert to lowercase for uniformity\n",
        "    return {vowel: sentence.count(vowel) for vowel in vowels if sentence.count(vowel) > 0}\n",
        "\n",
        "vowel_count1 = count_vowels(sanitized1)\n",
        "vowel_count2 = count_vowels(sanitized2)\n",
        "\n",
        "print(\"Vowel counts in first sentence:\", vowel_count1)\n",
        "print(\"Vowel counts in second sentence:\", vowel_count2)\n"
      ]
    },
    {
      "cell_type": "markdown",
      "source": [
        "# Question 4 (10 Points)"
      ],
      "metadata": {
        "id": "OP4-5qxAtInv"
      }
    },
    {
      "cell_type": "markdown",
      "source": [
        "Design and implement a simple command-line calculator program. The program should handle both integers and floating-point numbers.\n",
        "\n",
        "(a) Write program that takes a mathematical expression as input and evaluates it. The program should support addition, subtraction, multiplication, and division.\n",
        "\n",
        "(b) Extend the calculator to handle parentheses in mathematical expressions. Implement the necessary logic to evaluate expressions with nested parentheses.\n",
        "\n",
        "(c) Enhance your calculator to include additional mathematical operations such as exponentiation, square root, and modulus.\n",
        "\n",
        "(d) Implement error handling in the calculator program. Handle cases such as division by zero and invalid input expressions. Provide meaningful error messages.\n",
        "\n",
        "(e) Implement a command to exit the calculator."
      ],
      "metadata": {
        "id": "uzN4_hDptK9U"
      }
    },
    {
      "cell_type": "code",
      "source": [
        "import math\n",
        "\n",
        "def evalexp(expression):\n",
        "    if \"/ 0\" in expression or \" /0\" in expression:\n",
        "        return \"Error: Dividing by '0' is not possible.\"\n",
        "\n",
        "    if not any(op in expression for op in \"+-*/%**sqrt\"):\n",
        "        return \"Error: Invalid expression. please provide a valid one\"\n",
        "\n",
        "    return eval(expression)\n",
        "\n",
        "def calci():\n",
        "    print(\"Simple Calculator\")\n",
        "    print(\"Supported operations: +, -, *, /, ** (exponentiation), % (modulus), sqrt (square root)\")\n",
        "    print(\"Type 'exit' to quit.\")\n",
        "\n",
        "    for _ in iter(int, 1):\n",
        "        expression = input(\"Enter a mathematical expression: \")\n",
        "        if expression.lower() == 'exit':\n",
        "            print(\"Exiting the calculator. Goodbye!\")\n",
        "            break\n",
        "\n",
        "        if 'sqrt' in expression:\n",
        "            parts = expression.split('sqrt')\n",
        "            if len(parts) > 1 and parts[1].strip(\" ()\").isdigit():\n",
        "                num = float(parts[1].strip(\" ()\"))\n",
        "                fin_Result = math.sqrt(num)\n",
        "            else:\n",
        "                fin_Result = \"Error occured it is an invalid number for getting a square root.\"\n",
        "        else:\n",
        "            fin_Result = evalexp(expression)\n",
        "\n",
        "        print(\"Final Result:\", fin_Result)\n",
        "\n",
        "if __name__ == \"__main__\":\n",
        "    calci()\n"
      ],
      "metadata": {
        "id": "8nQnVxjJuYtu",
        "colab": {
          "base_uri": "https://localhost:8080/"
        },
        "outputId": "b458ed95-e883-4ac6-baa5-8ff2396020ba"
      },
      "execution_count": 3,
      "outputs": [
        {
          "output_type": "stream",
          "name": "stdout",
          "text": [
            "Simple Calculator\n",
            "Supported operations: +, -, *, /, ** (exponentiation), % (modulus), sqrt (square root)\n",
            "Type 'exit' to quit.\n",
            "Enter a mathematical expression: 1+1\n",
            "Final Result: 2\n",
            "Enter a mathematical expression: exit\n",
            "Exiting the calculator. Goodbye!\n"
          ]
        }
      ]
    },
    {
      "cell_type": "markdown",
      "metadata": {
        "id": "z3tBE7E-Xn5X"
      },
      "source": [
        "# Question 5 (20 points).\n",
        "\n",
        "In the field of Data Science, data is often formatted as a comma-delimited (CSV) file, where each line in a file corresponds to a field's value. Refer to Chapter 9 (p. 106) for more information on comma-delimited files.\n",
        "\n",
        "To answer this question, you will need to download the file [Assignment1_denton_housing.csv](https://raw.githubusercontent.com/unt-iialab/info5731-spring2022/main/assignments/Assignment1_denton_housing.csv) included with this assignment. The file contains statistics about housing in the city of Denton from 2008 to 2014. Write a program to implement the following questions.\n",
        "\n",
        "(a) (5 pts) Calculate the difference in the number of Occupied Housing Units from year to year and print it. The difference must be calculated for the consecutive years such as 2008-2009, 2009-2010 etc. Finally, print the values in the ascending order.\n",
        "\n",
        "(b) (5 pts) For all the years, calculate the percentage of housing units which are vacant an occupied. Print the results in the following format:\n",
        "\n",
        "Year Vacant Housing Units Occupied Housing Units\n",
        "\n",
        "    2008  30%   70%                          \n",
        "\t2009 ----- -----\n",
        "\t2010 ----- -----\n",
        "    2011 ----- -----\n",
        "\t2012 ----- -----\n",
        "    2013 ----- -----\n",
        "\t2014 ----- -----\n",
        "  \n",
        "  \n",
        "\n",
        "(c) (5 pts) Calculate and print the valued and years in which the highest number of housing units were vacant and occupied. Print the results in the following format:  \n",
        "\n",
        "                              Year\tValue\n",
        "\tVacant Housing Units\t  -----   -----\n",
        "\tOccupied Housing Units\t-----   -----\n",
        "\n",
        "(d) (5 pts) Calculate the harmonic mean of the total housing units and print it out. You can find the information about harmonic mean here: https://ncalculators.com/statistics/harmonic-mean-calculator.htm"
      ]
    },
    {
      "cell_type": "code",
      "source": [
        "import pandas as pd\n",
        "import numpy as np\n",
        "\n",
        "def calculate_occ_fns(data):\n",
        "    diffs = []\n",
        "    years = sorted(data['year'].unique())\n",
        "\n",
        "    for i in range(1, len(years)):\n",
        "        y1, y2 = years[i-1], years[i]\n",
        "        occ_y1 = data.loc[(data['year'] == y1) & (data['title_field'] == 'Occupied Housing Units'), 'value'].values[0]\n",
        "        occ_y2 = data.loc[(data['year'] == y2) & (data['title_field'] == 'Occupied Housing Units'), 'value'].values[0]\n",
        "        diff = occ_y2 - occ_y1\n",
        "        diffs.append((y1, y2, diff))\n",
        "\n",
        "    diffs.sort(key=lambda x: x[2])  # Sort by difference value in ascending order\n",
        "    return diffs\n",
        "\n",
        "def calculate_vac_per(data):\n",
        "    per_Data = []\n",
        "\n",
        "    for year in data['year'].unique():\n",
        "        total_units = data.loc[(data['year'] == year) & (data['title_field'] == 'Total Housing Units'), 'value'].values[0]\n",
        "        vac_units = data.loc[(data['year'] == year) & (data['title_field'] == 'Vacant Housing Units'), 'value'].values[0]\n",
        "        occ_units = data.loc[(data['year'] == year) & (data['title_field'] == 'Occupied Housing Units'), 'value'].values[0]\n",
        "\n",
        "        vac_per = (vac_units / total_units) * 100\n",
        "        occ_per = (occ_units / total_units) * 100\n",
        "\n",
        "        per_Data.append((year, round(vac_per, 2), round(occ_per, 2)))\n",
        "\n",
        "    return per_Data\n",
        "\n",
        "def high_vac_occ(data):\n",
        "    max_vac = data.loc[data['title_field'] == 'Vacant Housing Units'].nlargest(1, 'value')\n",
        "    max_occ = data.loc[data['title_field'] == 'Occupied Housing Units'].nlargest(1, 'value')\n",
        "\n",
        "    return (max_vac['year'].values[0], max_vac['value'].values[0]), (max_occ['year'].values[0], max_occ['value'].values[0])\n",
        "\n",
        "def harmonic_mean(values):\n",
        "    return len(values) / np.sum(1 / np.array(values))\n",
        "\n",
        "def main():\n",
        "    # Load data using pandas\n",
        "    filename = \"Assignment1_denton_housing.csv\"\n",
        "    data = pd.read_csv(filename)\n",
        "\n",
        "    # (a) Calculate the difference in occupied housing units year to year\n",
        "    diffs = calculate_occ_fns(data)\n",
        "    print(\"\\n(a) Difference in Occupied Housing Units (sorted by difference):\")\n",
        "    for y1, y2, diff in diffs:\n",
        "        print(f\"From {y1} to {y2}: {diff}\")\n",
        "\n",
        "    # (b) Calculate the percentage of vacant and occupied housing units\n",
        "    per_Data = calculate_vac_per(data)\n",
        "    print(\"\\n(b) Percentage of Vacant and Occupied Housing Units:\")\n",
        "    print(f\"{'Year':<10} {'Vacant Housing Units':<20} {'Occupied Housing Units':<20}\")\n",
        "    for year, vac_per, occ_per in per_Data:\n",
        "        print(f\"{year:<10} {vac_per}% {occ_per}%\")\n",
        "\n",
        "    # (c) Find the years with the highest vacant and occupied units\n",
        "    max_vac, max_occ = high_vac_occ(data)\n",
        "    print(\"\\n(c) Year and value for highest vacant and occupied units:\")\n",
        "    print(f\"Vacant Housing Units - Year: {max_vac[0]}, Value: {max_vac[1]}\")\n",
        "    print(f\"Occupied Housing Units - Year: {max_occ[0]}, Value: {max_occ[1]}\")\n",
        "\n",
        "    # (d) Calculate the harmonic mean of total housing units\n",
        "    total_units = data.loc[data['title_field'] == 'Total Housing Units', 'value'].tolist()\n",
        "    harmonic = harmonic_mean(total_units)\n",
        "    print(f\"\\n(d) Harmonic mean of total housing units: {round(harmonic, 2)}\")\n",
        "\n",
        "if __name__ == \"__main__\":\n",
        "    main()\n"
      ],
      "metadata": {
        "colab": {
          "base_uri": "https://localhost:8080/"
        },
        "id": "-zNaRlBf3UaS",
        "outputId": "3736ef60-6683-447a-8741-547e72a1a9c4"
      },
      "execution_count": 4,
      "outputs": [
        {
          "output_type": "stream",
          "name": "stdout",
          "text": [
            "\n",
            "(a) Difference in Occupied Housing Units (sorted by difference):\n",
            "From 2008 to 2009: -795\n",
            "From 2010 to 2011: -303\n",
            "From 2011 to 2012: 1404\n",
            "From 2012 to 2013: 1565\n",
            "From 2013 to 2014: 2622\n",
            "From 2009 to 2010: 5091\n",
            "\n",
            "(b) Percentage of Vacant and Occupied Housing Units:\n",
            "Year       Vacant Housing Units Occupied Housing Units\n",
            "2014       5.73% 94.27%\n",
            "2013       8.8% 91.2%\n",
            "2012       6.68% 93.32%\n",
            "2011       9.38% 90.62%\n",
            "2010       8.14% 91.86%\n",
            "2009       9.07% 90.93%\n",
            "2008       10.88% 89.12%\n",
            "\n",
            "(c) Year and value for highest vacant and occupied units:\n",
            "Vacant Housing Units - Year: 2008, Value: 4483\n",
            "Occupied Housing Units - Year: 2014, Value: 46295\n",
            "\n",
            "(d) Harmonic mean of total housing units: 44398.29\n"
          ]
        }
      ]
    },
    {
      "cell_type": "markdown",
      "source": [
        "# **For question 6 and 7 you can take AI assitance to solve.**\n",
        "\n",
        "Make sure you follow the instructions given in class to answer these questions.\n",
        "\n",
        "\n",
        "**Important points:**\n",
        "\n",
        "1.   You must come up with at least 10 edge cases.\n",
        "2.   You should provide prompts and revised prompts given to ChatGPT.\n",
        "2.   Debug your code and write comments for each block of code\n",
        "3.   Analyzing error will not consider as edge case.\n",
        "\n",
        "Edge cases are like real life scienarios which are realated to the given question."
      ],
      "metadata": {
        "id": "DB9XtkavJmsO"
      }
    },
    {
      "cell_type": "markdown",
      "source": [
        "# Question 6 (20 points).\n",
        "Develop a advance Python program to manage inventory records for a prodcut managing company. The system needs functions for adding, deleting and changing products and basic search options. Your system should use CSV files to automate restocking and produce reports that show item values alongside category breakdowns. Manage edge cases and corrupted CSV files. Finally maintaine 50 products of different categories in inventory."
      ],
      "metadata": {
        "id": "BAfp-70D2Cay"
      }
    },
    {
      "cell_type": "markdown",
      "source": [
        "## here for the 6 and 7 questions I just added the code given by the chat gpt and also the coming code snippets are basically removing the edgecases given by the gpt so far."
      ],
      "metadata": {
        "id": "RBRMrZKQbeTg"
      }
    },
    {
      "cell_type": "code",
      "source": [
        "import csv\n",
        "import os\n",
        "\n",
        "INVENTORY_FILE = \"inventory.csv\"\n",
        "\n",
        "# Initialize inventory with 50 sample products (if not exists)\n",
        "def initialize_inventory():\n",
        "    if not os.path.exists(INVENTORY_FILE):\n",
        "        with open(INVENTORY_FILE, mode='w', newline='') as file:\n",
        "            writer = csv.writer(file)\n",
        "            writer.writerow([\"ID\", \"Name\", \"Category\", \"Quantity\", \"Price\", \"Restock_Level\"])\n",
        "            for i in range(1, 51):\n",
        "                writer.writerow([i, f\"Product_{i}\", f\"Category_{i % 5}\", 10 + i, round(5.5 * i, 2), 5])\n",
        "\n",
        "# Load inventory from CSV\n",
        "def load_inventory():\n",
        "    try:\n",
        "        with open(INVENTORY_FILE, mode='r') as file:\n",
        "            return list(csv.DictReader(file))\n",
        "    except Exception as e:\n",
        "        print(\"Error loading inventory:\", e)\n",
        "        return []\n",
        "\n",
        "# Save inventory back to CSV\n",
        "def save_inventory(inventory):\n",
        "    with open(INVENTORY_FILE, mode='w', newline='') as file:\n",
        "        writer = csv.DictWriter(file, fieldnames=[\"ID\", \"Name\", \"Category\", \"Quantity\", \"Price\", \"Restock_Level\"])\n",
        "        writer.writeheader()\n",
        "        writer.writerows(inventory)\n",
        "\n",
        "# Add a new product\n",
        "def add_product(name, category, quantity, price, restock_level):\n",
        "    inventory = load_inventory()\n",
        "    new_id = max([int(item[\"ID\"]) for item in inventory], default=0) + 1\n",
        "    inventory.append({\"ID\": str(new_id), \"Name\": name, \"Category\": category, \"Quantity\": str(quantity), \"Price\": str(price), \"Restock_Level\": str(restock_level)})\n",
        "    save_inventory(inventory)\n",
        "    print(f\"Product {name} added successfully!\")\n",
        "\n",
        "# Delete a product\n",
        "def delete_product(product_id):\n",
        "    inventory = load_inventory()\n",
        "    inventory = [item for item in inventory if item[\"ID\"] != str(product_id)]\n",
        "    save_inventory(inventory)\n",
        "    print(f\"Product {product_id} deleted successfully!\")\n",
        "\n",
        "# Update a product\n",
        "def update_product(product_id, name=None, category=None, quantity=None, price=None, restock_level=None):\n",
        "    inventory = load_inventory()\n",
        "    for item in inventory:\n",
        "        if item[\"ID\"] == str(product_id):\n",
        "            if name:\n",
        "                item[\"Name\"] = name\n",
        "            if category:\n",
        "                item[\"Category\"] = category\n",
        "            if quantity is not None:\n",
        "                item[\"Quantity\"] = str(quantity)\n",
        "            if price is not None:\n",
        "                item[\"Price\"] = str(price)\n",
        "            if restock_level is not None:\n",
        "                item[\"Restock_Level\"] = str(restock_level)\n",
        "    save_inventory(inventory)\n",
        "    print(f\"Product {product_id} updated successfully!\")\n",
        "\n",
        "# Search products\n",
        "def search_product(name):\n",
        "    inventory = load_inventory()\n",
        "    results = [item for item in inventory if name.lower() in item[\"Name\"].lower()]\n",
        "    print(\"Search Results:\", results)\n",
        "    return results\n",
        "\n",
        "# Generate inventory report\n",
        "def generate_report():\n",
        "    inventory = load_inventory()\n",
        "    category_summary = {}\n",
        "    total_value = 0\n",
        "    for item in inventory:\n",
        "        total_value += float(item[\"Price\"]) * int(item[\"Quantity\"])\n",
        "        category_summary[item[\"Category\"]] = category_summary.get(item[\"Category\"], 0) + int(item[\"Quantity\"])\n",
        "    print(\"Total Inventory Value:\", total_value)\n",
        "    print(\"Category Breakdown:\", category_summary)\n",
        "\n",
        "# Handle restocking\n",
        "def restock_items():\n",
        "    inventory = load_inventory()\n",
        "    for item in inventory:\n",
        "        if int(item[\"Quantity\"]) <= int(item[\"Restock_Level\"]):\n",
        "            item[\"Quantity\"] = str(int(item[\"Quantity\"]) + 10)  # Restock logic\n",
        "    save_inventory(inventory)\n",
        "    print(\"Restocking complete.\")\n",
        "\n",
        "initialize_inventory()\n",
        "\n"
      ],
      "metadata": {
        "id": "WxtZNH3b3IR7"
      },
      "execution_count": 57,
      "outputs": []
    },
    {
      "cell_type": "markdown",
      "source": [
        "first edge case if we are atemtping to delete an product via its id without it is being there in the database"
      ],
      "metadata": {
        "id": "euIwHY1Z94Sa"
      }
    },
    {
      "cell_type": "code",
      "source": [
        "delete_product(100)\n"
      ],
      "metadata": {
        "colab": {
          "base_uri": "https://localhost:8080/",
          "height": 287
        },
        "id": "0UYQsmDl9ljR",
        "outputId": "63f3112b-586a-423f-a3ff-ccdc519f644b"
      },
      "execution_count": 4,
      "outputs": [
        {
          "output_type": "error",
          "ename": "KeyError",
          "evalue": "'ID'",
          "traceback": [
            "\u001b[0;31m---------------------------------------------------------------------------\u001b[0m",
            "\u001b[0;31mKeyError\u001b[0m                                  Traceback (most recent call last)",
            "\u001b[0;32m<ipython-input-4-b162c17ec8b6>\u001b[0m in \u001b[0;36m<cell line: 0>\u001b[0;34m()\u001b[0m\n\u001b[0;32m----> 1\u001b[0;31m \u001b[0mdelete_product\u001b[0m\u001b[0;34m(\u001b[0m\u001b[0;36m999\u001b[0m\u001b[0;34m)\u001b[0m\u001b[0;34m\u001b[0m\u001b[0;34m\u001b[0m\u001b[0m\n\u001b[0m",
            "\u001b[0;32m<ipython-input-3-bb52abf1d6ce>\u001b[0m in \u001b[0;36mdelete_product\u001b[0;34m(product_id)\u001b[0m\n\u001b[1;32m     40\u001b[0m \u001b[0;32mdef\u001b[0m \u001b[0mdelete_product\u001b[0m\u001b[0;34m(\u001b[0m\u001b[0mproduct_id\u001b[0m\u001b[0;34m)\u001b[0m\u001b[0;34m:\u001b[0m\u001b[0;34m\u001b[0m\u001b[0;34m\u001b[0m\u001b[0m\n\u001b[1;32m     41\u001b[0m     \u001b[0minventory\u001b[0m \u001b[0;34m=\u001b[0m \u001b[0mload_inventory\u001b[0m\u001b[0;34m(\u001b[0m\u001b[0;34m)\u001b[0m\u001b[0;34m\u001b[0m\u001b[0;34m\u001b[0m\u001b[0m\n\u001b[0;32m---> 42\u001b[0;31m     \u001b[0minventory\u001b[0m \u001b[0;34m=\u001b[0m \u001b[0;34m[\u001b[0m\u001b[0mitem\u001b[0m \u001b[0;32mfor\u001b[0m \u001b[0mitem\u001b[0m \u001b[0;32min\u001b[0m \u001b[0minventory\u001b[0m \u001b[0;32mif\u001b[0m \u001b[0mitem\u001b[0m\u001b[0;34m[\u001b[0m\u001b[0;34m\"ID\"\u001b[0m\u001b[0;34m]\u001b[0m \u001b[0;34m!=\u001b[0m \u001b[0mstr\u001b[0m\u001b[0;34m(\u001b[0m\u001b[0mproduct_id\u001b[0m\u001b[0;34m)\u001b[0m\u001b[0;34m]\u001b[0m\u001b[0;34m\u001b[0m\u001b[0;34m\u001b[0m\u001b[0m\n\u001b[0m\u001b[1;32m     43\u001b[0m     \u001b[0msave_inventory\u001b[0m\u001b[0;34m(\u001b[0m\u001b[0minventory\u001b[0m\u001b[0;34m)\u001b[0m\u001b[0;34m\u001b[0m\u001b[0;34m\u001b[0m\u001b[0m\n\u001b[1;32m     44\u001b[0m     \u001b[0mprint\u001b[0m\u001b[0;34m(\u001b[0m\u001b[0;34mf\"Product {product_id} deleted successfully!\"\u001b[0m\u001b[0;34m)\u001b[0m\u001b[0;34m\u001b[0m\u001b[0;34m\u001b[0m\u001b[0m\n",
            "\u001b[0;32m<ipython-input-3-bb52abf1d6ce>\u001b[0m in \u001b[0;36m<listcomp>\u001b[0;34m(.0)\u001b[0m\n\u001b[1;32m     40\u001b[0m \u001b[0;32mdef\u001b[0m \u001b[0mdelete_product\u001b[0m\u001b[0;34m(\u001b[0m\u001b[0mproduct_id\u001b[0m\u001b[0;34m)\u001b[0m\u001b[0;34m:\u001b[0m\u001b[0;34m\u001b[0m\u001b[0;34m\u001b[0m\u001b[0m\n\u001b[1;32m     41\u001b[0m     \u001b[0minventory\u001b[0m \u001b[0;34m=\u001b[0m \u001b[0mload_inventory\u001b[0m\u001b[0;34m(\u001b[0m\u001b[0;34m)\u001b[0m\u001b[0;34m\u001b[0m\u001b[0;34m\u001b[0m\u001b[0m\n\u001b[0;32m---> 42\u001b[0;31m     \u001b[0minventory\u001b[0m \u001b[0;34m=\u001b[0m \u001b[0;34m[\u001b[0m\u001b[0mitem\u001b[0m \u001b[0;32mfor\u001b[0m \u001b[0mitem\u001b[0m \u001b[0;32min\u001b[0m \u001b[0minventory\u001b[0m \u001b[0;32mif\u001b[0m \u001b[0mitem\u001b[0m\u001b[0;34m[\u001b[0m\u001b[0;34m\"ID\"\u001b[0m\u001b[0;34m]\u001b[0m \u001b[0;34m!=\u001b[0m \u001b[0mstr\u001b[0m\u001b[0;34m(\u001b[0m\u001b[0mproduct_id\u001b[0m\u001b[0;34m)\u001b[0m\u001b[0;34m]\u001b[0m\u001b[0;34m\u001b[0m\u001b[0;34m\u001b[0m\u001b[0m\n\u001b[0m\u001b[1;32m     43\u001b[0m     \u001b[0msave_inventory\u001b[0m\u001b[0;34m(\u001b[0m\u001b[0minventory\u001b[0m\u001b[0;34m)\u001b[0m\u001b[0;34m\u001b[0m\u001b[0;34m\u001b[0m\u001b[0m\n\u001b[1;32m     44\u001b[0m     \u001b[0mprint\u001b[0m\u001b[0;34m(\u001b[0m\u001b[0;34mf\"Product {product_id} deleted successfully!\"\u001b[0m\u001b[0;34m)\u001b[0m\u001b[0;34m\u001b[0m\u001b[0;34m\u001b[0m\u001b[0m\n",
            "\u001b[0;31mKeyError\u001b[0m: 'ID'"
          ]
        }
      ]
    },
    {
      "cell_type": "markdown",
      "source": [
        "if we are adding products with some duplicaate names it is not gonna take the thing but instead throwing an error"
      ],
      "metadata": {
        "id": "Oad8g15U-hU0"
      }
    },
    {
      "cell_type": "code",
      "source": [
        "def delete_product(product_id):\n",
        "    inventory = load_inventory()\n",
        "\n",
        "    # Debugging: Check if keys exist in inventory\n",
        "    if not inventory:\n",
        "        print(\"Error: Inventory is empty or could not be loaded!\")\n",
        "        return\n",
        "\n",
        "    # Ensure all dictionary keys exist\n",
        "    for item in inventory:\n",
        "        if \"ID\" not in item:\n",
        "            print(\"Error: CSV file may be corrupted or missing headers.\")\n",
        "            return\n",
        "\n",
        "    # Check if product exists\n",
        "    if not any(item[\"ID\"] == str(product_id) for item in inventory):\n",
        "        print(f\"Error: Product ID {product_id} not found!\")\n",
        "        return\n",
        "\n",
        "    # Proceed with deletion\n",
        "    inventory = [item for item in inventory if item[\"ID\"] != str(product_id)]\n",
        "    save_inventory(inventory)\n",
        "    print(f\"Product {product_id} deleted successfully!\")\n"
      ],
      "metadata": {
        "id": "y-i4UuIPPkfi"
      },
      "execution_count": 21,
      "outputs": []
    },
    {
      "cell_type": "code",
      "source": [
        "delete_product(1)"
      ],
      "metadata": {
        "colab": {
          "base_uri": "https://localhost:8080/"
        },
        "id": "nzyovcDyPnnx",
        "outputId": "00afa891-2072-45f1-dfaf-699542c42308"
      },
      "execution_count": 22,
      "outputs": [
        {
          "output_type": "stream",
          "name": "stdout",
          "text": [
            "Error: CSV file may be corrupted or missing headers.\n"
          ]
        }
      ]
    },
    {
      "cell_type": "code",
      "source": [
        "add_product(\"Product_10\", \"Electronics\", 20, 150.5, 5)  # Name already exists\n"
      ],
      "metadata": {
        "colab": {
          "base_uri": "https://localhost:8080/",
          "height": 287
        },
        "id": "dZ9ZBLuF-Dag",
        "outputId": "76cd760a-8e03-4bc7-fbf5-3655ff6bac4b"
      },
      "execution_count": 5,
      "outputs": [
        {
          "output_type": "error",
          "ename": "KeyError",
          "evalue": "'ID'",
          "traceback": [
            "\u001b[0;31m---------------------------------------------------------------------------\u001b[0m",
            "\u001b[0;31mKeyError\u001b[0m                                  Traceback (most recent call last)",
            "\u001b[0;32m<ipython-input-5-4a6d4a5306b0>\u001b[0m in \u001b[0;36m<cell line: 0>\u001b[0;34m()\u001b[0m\n\u001b[0;32m----> 1\u001b[0;31m \u001b[0madd_product\u001b[0m\u001b[0;34m(\u001b[0m\u001b[0;34m\"Product_10\"\u001b[0m\u001b[0;34m,\u001b[0m \u001b[0;34m\"Electronics\"\u001b[0m\u001b[0;34m,\u001b[0m \u001b[0;36m20\u001b[0m\u001b[0;34m,\u001b[0m \u001b[0;36m150.5\u001b[0m\u001b[0;34m,\u001b[0m \u001b[0;36m5\u001b[0m\u001b[0;34m)\u001b[0m  \u001b[0;31m# Name already exists\u001b[0m\u001b[0;34m\u001b[0m\u001b[0;34m\u001b[0m\u001b[0m\n\u001b[0m",
            "\u001b[0;32m<ipython-input-3-bb52abf1d6ce>\u001b[0m in \u001b[0;36madd_product\u001b[0;34m(name, category, quantity, price, restock_level)\u001b[0m\n\u001b[1;32m     32\u001b[0m \u001b[0;32mdef\u001b[0m \u001b[0madd_product\u001b[0m\u001b[0;34m(\u001b[0m\u001b[0mname\u001b[0m\u001b[0;34m,\u001b[0m \u001b[0mcategory\u001b[0m\u001b[0;34m,\u001b[0m \u001b[0mquantity\u001b[0m\u001b[0;34m,\u001b[0m \u001b[0mprice\u001b[0m\u001b[0;34m,\u001b[0m \u001b[0mrestock_level\u001b[0m\u001b[0;34m)\u001b[0m\u001b[0;34m:\u001b[0m\u001b[0;34m\u001b[0m\u001b[0;34m\u001b[0m\u001b[0m\n\u001b[1;32m     33\u001b[0m     \u001b[0minventory\u001b[0m \u001b[0;34m=\u001b[0m \u001b[0mload_inventory\u001b[0m\u001b[0;34m(\u001b[0m\u001b[0;34m)\u001b[0m\u001b[0;34m\u001b[0m\u001b[0;34m\u001b[0m\u001b[0m\n\u001b[0;32m---> 34\u001b[0;31m     \u001b[0mnew_id\u001b[0m \u001b[0;34m=\u001b[0m \u001b[0mmax\u001b[0m\u001b[0;34m(\u001b[0m\u001b[0;34m[\u001b[0m\u001b[0mint\u001b[0m\u001b[0;34m(\u001b[0m\u001b[0mitem\u001b[0m\u001b[0;34m[\u001b[0m\u001b[0;34m\"ID\"\u001b[0m\u001b[0;34m]\u001b[0m\u001b[0;34m)\u001b[0m \u001b[0;32mfor\u001b[0m \u001b[0mitem\u001b[0m \u001b[0;32min\u001b[0m \u001b[0minventory\u001b[0m\u001b[0;34m]\u001b[0m\u001b[0;34m,\u001b[0m \u001b[0mdefault\u001b[0m\u001b[0;34m=\u001b[0m\u001b[0;36m0\u001b[0m\u001b[0;34m)\u001b[0m \u001b[0;34m+\u001b[0m \u001b[0;36m1\u001b[0m\u001b[0;34m\u001b[0m\u001b[0;34m\u001b[0m\u001b[0m\n\u001b[0m\u001b[1;32m     35\u001b[0m     \u001b[0minventory\u001b[0m\u001b[0;34m.\u001b[0m\u001b[0mappend\u001b[0m\u001b[0;34m(\u001b[0m\u001b[0;34m{\u001b[0m\u001b[0;34m\"ID\"\u001b[0m\u001b[0;34m:\u001b[0m \u001b[0mstr\u001b[0m\u001b[0;34m(\u001b[0m\u001b[0mnew_id\u001b[0m\u001b[0;34m)\u001b[0m\u001b[0;34m,\u001b[0m \u001b[0;34m\"Name\"\u001b[0m\u001b[0;34m:\u001b[0m \u001b[0mname\u001b[0m\u001b[0;34m,\u001b[0m \u001b[0;34m\"Category\"\u001b[0m\u001b[0;34m:\u001b[0m \u001b[0mcategory\u001b[0m\u001b[0;34m,\u001b[0m \u001b[0;34m\"Quantity\"\u001b[0m\u001b[0;34m:\u001b[0m \u001b[0mstr\u001b[0m\u001b[0;34m(\u001b[0m\u001b[0mquantity\u001b[0m\u001b[0;34m)\u001b[0m\u001b[0;34m,\u001b[0m \u001b[0;34m\"Price\"\u001b[0m\u001b[0;34m:\u001b[0m \u001b[0mstr\u001b[0m\u001b[0;34m(\u001b[0m\u001b[0mprice\u001b[0m\u001b[0;34m)\u001b[0m\u001b[0;34m,\u001b[0m \u001b[0;34m\"Restock_Level\"\u001b[0m\u001b[0;34m:\u001b[0m \u001b[0mstr\u001b[0m\u001b[0;34m(\u001b[0m\u001b[0mrestock_level\u001b[0m\u001b[0;34m)\u001b[0m\u001b[0;34m}\u001b[0m\u001b[0;34m)\u001b[0m\u001b[0;34m\u001b[0m\u001b[0;34m\u001b[0m\u001b[0m\n\u001b[1;32m     36\u001b[0m     \u001b[0msave_inventory\u001b[0m\u001b[0;34m(\u001b[0m\u001b[0minventory\u001b[0m\u001b[0;34m)\u001b[0m\u001b[0;34m\u001b[0m\u001b[0;34m\u001b[0m\u001b[0m\n",
            "\u001b[0;32m<ipython-input-3-bb52abf1d6ce>\u001b[0m in \u001b[0;36m<listcomp>\u001b[0;34m(.0)\u001b[0m\n\u001b[1;32m     32\u001b[0m \u001b[0;32mdef\u001b[0m \u001b[0madd_product\u001b[0m\u001b[0;34m(\u001b[0m\u001b[0mname\u001b[0m\u001b[0;34m,\u001b[0m \u001b[0mcategory\u001b[0m\u001b[0;34m,\u001b[0m \u001b[0mquantity\u001b[0m\u001b[0;34m,\u001b[0m \u001b[0mprice\u001b[0m\u001b[0;34m,\u001b[0m \u001b[0mrestock_level\u001b[0m\u001b[0;34m)\u001b[0m\u001b[0;34m:\u001b[0m\u001b[0;34m\u001b[0m\u001b[0;34m\u001b[0m\u001b[0m\n\u001b[1;32m     33\u001b[0m     \u001b[0minventory\u001b[0m \u001b[0;34m=\u001b[0m \u001b[0mload_inventory\u001b[0m\u001b[0;34m(\u001b[0m\u001b[0;34m)\u001b[0m\u001b[0;34m\u001b[0m\u001b[0;34m\u001b[0m\u001b[0m\n\u001b[0;32m---> 34\u001b[0;31m     \u001b[0mnew_id\u001b[0m \u001b[0;34m=\u001b[0m \u001b[0mmax\u001b[0m\u001b[0;34m(\u001b[0m\u001b[0;34m[\u001b[0m\u001b[0mint\u001b[0m\u001b[0;34m(\u001b[0m\u001b[0mitem\u001b[0m\u001b[0;34m[\u001b[0m\u001b[0;34m\"ID\"\u001b[0m\u001b[0;34m]\u001b[0m\u001b[0;34m)\u001b[0m \u001b[0;32mfor\u001b[0m \u001b[0mitem\u001b[0m \u001b[0;32min\u001b[0m \u001b[0minventory\u001b[0m\u001b[0;34m]\u001b[0m\u001b[0;34m,\u001b[0m \u001b[0mdefault\u001b[0m\u001b[0;34m=\u001b[0m\u001b[0;36m0\u001b[0m\u001b[0;34m)\u001b[0m \u001b[0;34m+\u001b[0m \u001b[0;36m1\u001b[0m\u001b[0;34m\u001b[0m\u001b[0;34m\u001b[0m\u001b[0m\n\u001b[0m\u001b[1;32m     35\u001b[0m     \u001b[0minventory\u001b[0m\u001b[0;34m.\u001b[0m\u001b[0mappend\u001b[0m\u001b[0;34m(\u001b[0m\u001b[0;34m{\u001b[0m\u001b[0;34m\"ID\"\u001b[0m\u001b[0;34m:\u001b[0m \u001b[0mstr\u001b[0m\u001b[0;34m(\u001b[0m\u001b[0mnew_id\u001b[0m\u001b[0;34m)\u001b[0m\u001b[0;34m,\u001b[0m \u001b[0;34m\"Name\"\u001b[0m\u001b[0;34m:\u001b[0m \u001b[0mname\u001b[0m\u001b[0;34m,\u001b[0m \u001b[0;34m\"Category\"\u001b[0m\u001b[0;34m:\u001b[0m \u001b[0mcategory\u001b[0m\u001b[0;34m,\u001b[0m \u001b[0;34m\"Quantity\"\u001b[0m\u001b[0;34m:\u001b[0m \u001b[0mstr\u001b[0m\u001b[0;34m(\u001b[0m\u001b[0mquantity\u001b[0m\u001b[0;34m)\u001b[0m\u001b[0;34m,\u001b[0m \u001b[0;34m\"Price\"\u001b[0m\u001b[0;34m:\u001b[0m \u001b[0mstr\u001b[0m\u001b[0;34m(\u001b[0m\u001b[0mprice\u001b[0m\u001b[0;34m)\u001b[0m\u001b[0;34m,\u001b[0m \u001b[0;34m\"Restock_Level\"\u001b[0m\u001b[0;34m:\u001b[0m \u001b[0mstr\u001b[0m\u001b[0;34m(\u001b[0m\u001b[0mrestock_level\u001b[0m\u001b[0;34m)\u001b[0m\u001b[0;34m}\u001b[0m\u001b[0;34m)\u001b[0m\u001b[0;34m\u001b[0m\u001b[0;34m\u001b[0m\u001b[0m\n\u001b[1;32m     36\u001b[0m     \u001b[0msave_inventory\u001b[0m\u001b[0;34m(\u001b[0m\u001b[0minventory\u001b[0m\u001b[0;34m)\u001b[0m\u001b[0;34m\u001b[0m\u001b[0;34m\u001b[0m\u001b[0m\n",
            "\u001b[0;31mKeyError\u001b[0m: 'ID'"
          ]
        }
      ]
    },
    {
      "cell_type": "code",
      "source": [
        "def add_product(name, category, quantity, price, restock_level):\n",
        "    inventory = load_inventory()\n",
        "    if any(item[\"Name\"].lower() == name.lower() for item in inventory):\n",
        "        print(f\"Error: Product '{name}' already exists!\")\n",
        "        return\n"
      ],
      "metadata": {
        "id": "JJNg6yH1STY1"
      },
      "execution_count": 23,
      "outputs": []
    },
    {
      "cell_type": "code",
      "source": [
        "add_product(\"Product_10\", \"Electronics\", 20, 150.5, 5)  # Name already exists\n"
      ],
      "metadata": {
        "id": "UQSlidF_Sc2l"
      },
      "execution_count": 24,
      "outputs": []
    },
    {
      "cell_type": "markdown",
      "source": [
        "negative value encountering if we submit the negative values while adding the product"
      ],
      "metadata": {
        "id": "iULG76Ne-5pB"
      }
    },
    {
      "cell_type": "code",
      "source": [
        "add_product(\"Product_11\", \"Gadgets\", -5, -100, 2)\n"
      ],
      "metadata": {
        "colab": {
          "base_uri": "https://localhost:8080/",
          "height": 287
        },
        "id": "hMnV2mAh-1UB",
        "outputId": "e9eb95ac-9fae-4f6a-c3f5-c3501804d51a"
      },
      "execution_count": 6,
      "outputs": [
        {
          "output_type": "error",
          "ename": "KeyError",
          "evalue": "'ID'",
          "traceback": [
            "\u001b[0;31m---------------------------------------------------------------------------\u001b[0m",
            "\u001b[0;31mKeyError\u001b[0m                                  Traceback (most recent call last)",
            "\u001b[0;32m<ipython-input-6-d0c1ae854efb>\u001b[0m in \u001b[0;36m<cell line: 0>\u001b[0;34m()\u001b[0m\n\u001b[0;32m----> 1\u001b[0;31m \u001b[0madd_product\u001b[0m\u001b[0;34m(\u001b[0m\u001b[0;34m\"Product_11\"\u001b[0m\u001b[0;34m,\u001b[0m \u001b[0;34m\"Gadgets\"\u001b[0m\u001b[0;34m,\u001b[0m \u001b[0;34m-\u001b[0m\u001b[0;36m5\u001b[0m\u001b[0;34m,\u001b[0m \u001b[0;34m-\u001b[0m\u001b[0;36m100\u001b[0m\u001b[0;34m,\u001b[0m \u001b[0;36m2\u001b[0m\u001b[0;34m)\u001b[0m\u001b[0;34m\u001b[0m\u001b[0;34m\u001b[0m\u001b[0m\n\u001b[0m",
            "\u001b[0;32m<ipython-input-3-bb52abf1d6ce>\u001b[0m in \u001b[0;36madd_product\u001b[0;34m(name, category, quantity, price, restock_level)\u001b[0m\n\u001b[1;32m     32\u001b[0m \u001b[0;32mdef\u001b[0m \u001b[0madd_product\u001b[0m\u001b[0;34m(\u001b[0m\u001b[0mname\u001b[0m\u001b[0;34m,\u001b[0m \u001b[0mcategory\u001b[0m\u001b[0;34m,\u001b[0m \u001b[0mquantity\u001b[0m\u001b[0;34m,\u001b[0m \u001b[0mprice\u001b[0m\u001b[0;34m,\u001b[0m \u001b[0mrestock_level\u001b[0m\u001b[0;34m)\u001b[0m\u001b[0;34m:\u001b[0m\u001b[0;34m\u001b[0m\u001b[0;34m\u001b[0m\u001b[0m\n\u001b[1;32m     33\u001b[0m     \u001b[0minventory\u001b[0m \u001b[0;34m=\u001b[0m \u001b[0mload_inventory\u001b[0m\u001b[0;34m(\u001b[0m\u001b[0;34m)\u001b[0m\u001b[0;34m\u001b[0m\u001b[0;34m\u001b[0m\u001b[0m\n\u001b[0;32m---> 34\u001b[0;31m     \u001b[0mnew_id\u001b[0m \u001b[0;34m=\u001b[0m \u001b[0mmax\u001b[0m\u001b[0;34m(\u001b[0m\u001b[0;34m[\u001b[0m\u001b[0mint\u001b[0m\u001b[0;34m(\u001b[0m\u001b[0mitem\u001b[0m\u001b[0;34m[\u001b[0m\u001b[0;34m\"ID\"\u001b[0m\u001b[0;34m]\u001b[0m\u001b[0;34m)\u001b[0m \u001b[0;32mfor\u001b[0m \u001b[0mitem\u001b[0m \u001b[0;32min\u001b[0m \u001b[0minventory\u001b[0m\u001b[0;34m]\u001b[0m\u001b[0;34m,\u001b[0m \u001b[0mdefault\u001b[0m\u001b[0;34m=\u001b[0m\u001b[0;36m0\u001b[0m\u001b[0;34m)\u001b[0m \u001b[0;34m+\u001b[0m \u001b[0;36m1\u001b[0m\u001b[0;34m\u001b[0m\u001b[0;34m\u001b[0m\u001b[0m\n\u001b[0m\u001b[1;32m     35\u001b[0m     \u001b[0minventory\u001b[0m\u001b[0;34m.\u001b[0m\u001b[0mappend\u001b[0m\u001b[0;34m(\u001b[0m\u001b[0;34m{\u001b[0m\u001b[0;34m\"ID\"\u001b[0m\u001b[0;34m:\u001b[0m \u001b[0mstr\u001b[0m\u001b[0;34m(\u001b[0m\u001b[0mnew_id\u001b[0m\u001b[0;34m)\u001b[0m\u001b[0;34m,\u001b[0m \u001b[0;34m\"Name\"\u001b[0m\u001b[0;34m:\u001b[0m \u001b[0mname\u001b[0m\u001b[0;34m,\u001b[0m \u001b[0;34m\"Category\"\u001b[0m\u001b[0;34m:\u001b[0m \u001b[0mcategory\u001b[0m\u001b[0;34m,\u001b[0m \u001b[0;34m\"Quantity\"\u001b[0m\u001b[0;34m:\u001b[0m \u001b[0mstr\u001b[0m\u001b[0;34m(\u001b[0m\u001b[0mquantity\u001b[0m\u001b[0;34m)\u001b[0m\u001b[0;34m,\u001b[0m \u001b[0;34m\"Price\"\u001b[0m\u001b[0;34m:\u001b[0m \u001b[0mstr\u001b[0m\u001b[0;34m(\u001b[0m\u001b[0mprice\u001b[0m\u001b[0;34m)\u001b[0m\u001b[0;34m,\u001b[0m \u001b[0;34m\"Restock_Level\"\u001b[0m\u001b[0;34m:\u001b[0m \u001b[0mstr\u001b[0m\u001b[0;34m(\u001b[0m\u001b[0mrestock_level\u001b[0m\u001b[0;34m)\u001b[0m\u001b[0;34m}\u001b[0m\u001b[0;34m)\u001b[0m\u001b[0;34m\u001b[0m\u001b[0;34m\u001b[0m\u001b[0m\n\u001b[1;32m     36\u001b[0m     \u001b[0msave_inventory\u001b[0m\u001b[0;34m(\u001b[0m\u001b[0minventory\u001b[0m\u001b[0;34m)\u001b[0m\u001b[0;34m\u001b[0m\u001b[0;34m\u001b[0m\u001b[0m\n",
            "\u001b[0;32m<ipython-input-3-bb52abf1d6ce>\u001b[0m in \u001b[0;36m<listcomp>\u001b[0;34m(.0)\u001b[0m\n\u001b[1;32m     32\u001b[0m \u001b[0;32mdef\u001b[0m \u001b[0madd_product\u001b[0m\u001b[0;34m(\u001b[0m\u001b[0mname\u001b[0m\u001b[0;34m,\u001b[0m \u001b[0mcategory\u001b[0m\u001b[0;34m,\u001b[0m \u001b[0mquantity\u001b[0m\u001b[0;34m,\u001b[0m \u001b[0mprice\u001b[0m\u001b[0;34m,\u001b[0m \u001b[0mrestock_level\u001b[0m\u001b[0;34m)\u001b[0m\u001b[0;34m:\u001b[0m\u001b[0;34m\u001b[0m\u001b[0;34m\u001b[0m\u001b[0m\n\u001b[1;32m     33\u001b[0m     \u001b[0minventory\u001b[0m \u001b[0;34m=\u001b[0m \u001b[0mload_inventory\u001b[0m\u001b[0;34m(\u001b[0m\u001b[0;34m)\u001b[0m\u001b[0;34m\u001b[0m\u001b[0;34m\u001b[0m\u001b[0m\n\u001b[0;32m---> 34\u001b[0;31m     \u001b[0mnew_id\u001b[0m \u001b[0;34m=\u001b[0m \u001b[0mmax\u001b[0m\u001b[0;34m(\u001b[0m\u001b[0;34m[\u001b[0m\u001b[0mint\u001b[0m\u001b[0;34m(\u001b[0m\u001b[0mitem\u001b[0m\u001b[0;34m[\u001b[0m\u001b[0;34m\"ID\"\u001b[0m\u001b[0;34m]\u001b[0m\u001b[0;34m)\u001b[0m \u001b[0;32mfor\u001b[0m \u001b[0mitem\u001b[0m \u001b[0;32min\u001b[0m \u001b[0minventory\u001b[0m\u001b[0;34m]\u001b[0m\u001b[0;34m,\u001b[0m \u001b[0mdefault\u001b[0m\u001b[0;34m=\u001b[0m\u001b[0;36m0\u001b[0m\u001b[0;34m)\u001b[0m \u001b[0;34m+\u001b[0m \u001b[0;36m1\u001b[0m\u001b[0;34m\u001b[0m\u001b[0;34m\u001b[0m\u001b[0m\n\u001b[0m\u001b[1;32m     35\u001b[0m     \u001b[0minventory\u001b[0m\u001b[0;34m.\u001b[0m\u001b[0mappend\u001b[0m\u001b[0;34m(\u001b[0m\u001b[0;34m{\u001b[0m\u001b[0;34m\"ID\"\u001b[0m\u001b[0;34m:\u001b[0m \u001b[0mstr\u001b[0m\u001b[0;34m(\u001b[0m\u001b[0mnew_id\u001b[0m\u001b[0;34m)\u001b[0m\u001b[0;34m,\u001b[0m \u001b[0;34m\"Name\"\u001b[0m\u001b[0;34m:\u001b[0m \u001b[0mname\u001b[0m\u001b[0;34m,\u001b[0m \u001b[0;34m\"Category\"\u001b[0m\u001b[0;34m:\u001b[0m \u001b[0mcategory\u001b[0m\u001b[0;34m,\u001b[0m \u001b[0;34m\"Quantity\"\u001b[0m\u001b[0;34m:\u001b[0m \u001b[0mstr\u001b[0m\u001b[0;34m(\u001b[0m\u001b[0mquantity\u001b[0m\u001b[0;34m)\u001b[0m\u001b[0;34m,\u001b[0m \u001b[0;34m\"Price\"\u001b[0m\u001b[0;34m:\u001b[0m \u001b[0mstr\u001b[0m\u001b[0;34m(\u001b[0m\u001b[0mprice\u001b[0m\u001b[0;34m)\u001b[0m\u001b[0;34m,\u001b[0m \u001b[0;34m\"Restock_Level\"\u001b[0m\u001b[0;34m:\u001b[0m \u001b[0mstr\u001b[0m\u001b[0;34m(\u001b[0m\u001b[0mrestock_level\u001b[0m\u001b[0;34m)\u001b[0m\u001b[0;34m}\u001b[0m\u001b[0;34m)\u001b[0m\u001b[0;34m\u001b[0m\u001b[0;34m\u001b[0m\u001b[0m\n\u001b[1;32m     36\u001b[0m     \u001b[0msave_inventory\u001b[0m\u001b[0;34m(\u001b[0m\u001b[0minventory\u001b[0m\u001b[0;34m)\u001b[0m\u001b[0;34m\u001b[0m\u001b[0;34m\u001b[0m\u001b[0m\n",
            "\u001b[0;31mKeyError\u001b[0m: 'ID'"
          ]
        }
      ]
    },
    {
      "cell_type": "code",
      "source": [
        "def add_product(name, category, quantity, price, restock_level):\n",
        "    inventory = load_inventory()\n",
        "    if any(item[\"Name\"].lower() == name.lower() for item in inventory):\n",
        "        print(f\"Error: Product '{name}' already exists!\")\n",
        "        return\n",
        "    if int(quantity) < 0 or float(price) < 0:\n",
        "        print(\"Error: Quantity and price must be non-negative values!\")\n",
        "        return\n",
        "\n",
        "\n"
      ],
      "metadata": {
        "id": "7rg7TG0pTA90"
      },
      "execution_count": 29,
      "outputs": []
    },
    {
      "cell_type": "code",
      "source": [
        "add_product(\"Product_11\", \"Gadgets\", -5, -100, 2)\n"
      ],
      "metadata": {
        "colab": {
          "base_uri": "https://localhost:8080/"
        },
        "id": "qKy-JlmmTnIi",
        "outputId": "4b82e851-227e-4185-93ac-ddb9b8c8c46c"
      },
      "execution_count": 30,
      "outputs": [
        {
          "output_type": "stream",
          "name": "stdout",
          "text": [
            "Error: Quantity and price must be non-negative values!\n"
          ]
        }
      ]
    },
    {
      "cell_type": "markdown",
      "source": [
        "if we give inputs other than the numerical values like sentences like that"
      ],
      "metadata": {
        "id": "n7f3gaEwTp5F"
      }
    },
    {
      "cell_type": "code",
      "source": [
        "add_product(\"Weird_Product\", \"Appliances\", \"ten\", \"fifty\", \"five\")\n"
      ],
      "metadata": {
        "colab": {
          "base_uri": "https://localhost:8080/",
          "height": 287
        },
        "id": "NPJOBfG9N2ti",
        "outputId": "cac5101a-16ad-49b2-bb1a-99f8d090f48a"
      },
      "execution_count": 7,
      "outputs": [
        {
          "output_type": "error",
          "ename": "KeyError",
          "evalue": "'ID'",
          "traceback": [
            "\u001b[0;31m---------------------------------------------------------------------------\u001b[0m",
            "\u001b[0;31mKeyError\u001b[0m                                  Traceback (most recent call last)",
            "\u001b[0;32m<ipython-input-7-89e8332b2b17>\u001b[0m in \u001b[0;36m<cell line: 0>\u001b[0;34m()\u001b[0m\n\u001b[0;32m----> 1\u001b[0;31m \u001b[0madd_product\u001b[0m\u001b[0;34m(\u001b[0m\u001b[0;34m\"Weird_Product\"\u001b[0m\u001b[0;34m,\u001b[0m \u001b[0;34m\"Appliances\"\u001b[0m\u001b[0;34m,\u001b[0m \u001b[0;34m\"ten\"\u001b[0m\u001b[0;34m,\u001b[0m \u001b[0;34m\"fifty\"\u001b[0m\u001b[0;34m,\u001b[0m \u001b[0;34m\"five\"\u001b[0m\u001b[0;34m)\u001b[0m\u001b[0;34m\u001b[0m\u001b[0;34m\u001b[0m\u001b[0m\n\u001b[0m",
            "\u001b[0;32m<ipython-input-3-bb52abf1d6ce>\u001b[0m in \u001b[0;36madd_product\u001b[0;34m(name, category, quantity, price, restock_level)\u001b[0m\n\u001b[1;32m     32\u001b[0m \u001b[0;32mdef\u001b[0m \u001b[0madd_product\u001b[0m\u001b[0;34m(\u001b[0m\u001b[0mname\u001b[0m\u001b[0;34m,\u001b[0m \u001b[0mcategory\u001b[0m\u001b[0;34m,\u001b[0m \u001b[0mquantity\u001b[0m\u001b[0;34m,\u001b[0m \u001b[0mprice\u001b[0m\u001b[0;34m,\u001b[0m \u001b[0mrestock_level\u001b[0m\u001b[0;34m)\u001b[0m\u001b[0;34m:\u001b[0m\u001b[0;34m\u001b[0m\u001b[0;34m\u001b[0m\u001b[0m\n\u001b[1;32m     33\u001b[0m     \u001b[0minventory\u001b[0m \u001b[0;34m=\u001b[0m \u001b[0mload_inventory\u001b[0m\u001b[0;34m(\u001b[0m\u001b[0;34m)\u001b[0m\u001b[0;34m\u001b[0m\u001b[0;34m\u001b[0m\u001b[0m\n\u001b[0;32m---> 34\u001b[0;31m     \u001b[0mnew_id\u001b[0m \u001b[0;34m=\u001b[0m \u001b[0mmax\u001b[0m\u001b[0;34m(\u001b[0m\u001b[0;34m[\u001b[0m\u001b[0mint\u001b[0m\u001b[0;34m(\u001b[0m\u001b[0mitem\u001b[0m\u001b[0;34m[\u001b[0m\u001b[0;34m\"ID\"\u001b[0m\u001b[0;34m]\u001b[0m\u001b[0;34m)\u001b[0m \u001b[0;32mfor\u001b[0m \u001b[0mitem\u001b[0m \u001b[0;32min\u001b[0m \u001b[0minventory\u001b[0m\u001b[0;34m]\u001b[0m\u001b[0;34m,\u001b[0m \u001b[0mdefault\u001b[0m\u001b[0;34m=\u001b[0m\u001b[0;36m0\u001b[0m\u001b[0;34m)\u001b[0m \u001b[0;34m+\u001b[0m \u001b[0;36m1\u001b[0m\u001b[0;34m\u001b[0m\u001b[0;34m\u001b[0m\u001b[0m\n\u001b[0m\u001b[1;32m     35\u001b[0m     \u001b[0minventory\u001b[0m\u001b[0;34m.\u001b[0m\u001b[0mappend\u001b[0m\u001b[0;34m(\u001b[0m\u001b[0;34m{\u001b[0m\u001b[0;34m\"ID\"\u001b[0m\u001b[0;34m:\u001b[0m \u001b[0mstr\u001b[0m\u001b[0;34m(\u001b[0m\u001b[0mnew_id\u001b[0m\u001b[0;34m)\u001b[0m\u001b[0;34m,\u001b[0m \u001b[0;34m\"Name\"\u001b[0m\u001b[0;34m:\u001b[0m \u001b[0mname\u001b[0m\u001b[0;34m,\u001b[0m \u001b[0;34m\"Category\"\u001b[0m\u001b[0;34m:\u001b[0m \u001b[0mcategory\u001b[0m\u001b[0;34m,\u001b[0m \u001b[0;34m\"Quantity\"\u001b[0m\u001b[0;34m:\u001b[0m \u001b[0mstr\u001b[0m\u001b[0;34m(\u001b[0m\u001b[0mquantity\u001b[0m\u001b[0;34m)\u001b[0m\u001b[0;34m,\u001b[0m \u001b[0;34m\"Price\"\u001b[0m\u001b[0;34m:\u001b[0m \u001b[0mstr\u001b[0m\u001b[0;34m(\u001b[0m\u001b[0mprice\u001b[0m\u001b[0;34m)\u001b[0m\u001b[0;34m,\u001b[0m \u001b[0;34m\"Restock_Level\"\u001b[0m\u001b[0;34m:\u001b[0m \u001b[0mstr\u001b[0m\u001b[0;34m(\u001b[0m\u001b[0mrestock_level\u001b[0m\u001b[0;34m)\u001b[0m\u001b[0;34m}\u001b[0m\u001b[0;34m)\u001b[0m\u001b[0;34m\u001b[0m\u001b[0;34m\u001b[0m\u001b[0m\n\u001b[1;32m     36\u001b[0m     \u001b[0msave_inventory\u001b[0m\u001b[0;34m(\u001b[0m\u001b[0minventory\u001b[0m\u001b[0;34m)\u001b[0m\u001b[0;34m\u001b[0m\u001b[0;34m\u001b[0m\u001b[0m\n",
            "\u001b[0;32m<ipython-input-3-bb52abf1d6ce>\u001b[0m in \u001b[0;36m<listcomp>\u001b[0;34m(.0)\u001b[0m\n\u001b[1;32m     32\u001b[0m \u001b[0;32mdef\u001b[0m \u001b[0madd_product\u001b[0m\u001b[0;34m(\u001b[0m\u001b[0mname\u001b[0m\u001b[0;34m,\u001b[0m \u001b[0mcategory\u001b[0m\u001b[0;34m,\u001b[0m \u001b[0mquantity\u001b[0m\u001b[0;34m,\u001b[0m \u001b[0mprice\u001b[0m\u001b[0;34m,\u001b[0m \u001b[0mrestock_level\u001b[0m\u001b[0;34m)\u001b[0m\u001b[0;34m:\u001b[0m\u001b[0;34m\u001b[0m\u001b[0;34m\u001b[0m\u001b[0m\n\u001b[1;32m     33\u001b[0m     \u001b[0minventory\u001b[0m \u001b[0;34m=\u001b[0m \u001b[0mload_inventory\u001b[0m\u001b[0;34m(\u001b[0m\u001b[0;34m)\u001b[0m\u001b[0;34m\u001b[0m\u001b[0;34m\u001b[0m\u001b[0m\n\u001b[0;32m---> 34\u001b[0;31m     \u001b[0mnew_id\u001b[0m \u001b[0;34m=\u001b[0m \u001b[0mmax\u001b[0m\u001b[0;34m(\u001b[0m\u001b[0;34m[\u001b[0m\u001b[0mint\u001b[0m\u001b[0;34m(\u001b[0m\u001b[0mitem\u001b[0m\u001b[0;34m[\u001b[0m\u001b[0;34m\"ID\"\u001b[0m\u001b[0;34m]\u001b[0m\u001b[0;34m)\u001b[0m \u001b[0;32mfor\u001b[0m \u001b[0mitem\u001b[0m \u001b[0;32min\u001b[0m \u001b[0minventory\u001b[0m\u001b[0;34m]\u001b[0m\u001b[0;34m,\u001b[0m \u001b[0mdefault\u001b[0m\u001b[0;34m=\u001b[0m\u001b[0;36m0\u001b[0m\u001b[0;34m)\u001b[0m \u001b[0;34m+\u001b[0m \u001b[0;36m1\u001b[0m\u001b[0;34m\u001b[0m\u001b[0;34m\u001b[0m\u001b[0m\n\u001b[0m\u001b[1;32m     35\u001b[0m     \u001b[0minventory\u001b[0m\u001b[0;34m.\u001b[0m\u001b[0mappend\u001b[0m\u001b[0;34m(\u001b[0m\u001b[0;34m{\u001b[0m\u001b[0;34m\"ID\"\u001b[0m\u001b[0;34m:\u001b[0m \u001b[0mstr\u001b[0m\u001b[0;34m(\u001b[0m\u001b[0mnew_id\u001b[0m\u001b[0;34m)\u001b[0m\u001b[0;34m,\u001b[0m \u001b[0;34m\"Name\"\u001b[0m\u001b[0;34m:\u001b[0m \u001b[0mname\u001b[0m\u001b[0;34m,\u001b[0m \u001b[0;34m\"Category\"\u001b[0m\u001b[0;34m:\u001b[0m \u001b[0mcategory\u001b[0m\u001b[0;34m,\u001b[0m \u001b[0;34m\"Quantity\"\u001b[0m\u001b[0;34m:\u001b[0m \u001b[0mstr\u001b[0m\u001b[0;34m(\u001b[0m\u001b[0mquantity\u001b[0m\u001b[0;34m)\u001b[0m\u001b[0;34m,\u001b[0m \u001b[0;34m\"Price\"\u001b[0m\u001b[0;34m:\u001b[0m \u001b[0mstr\u001b[0m\u001b[0;34m(\u001b[0m\u001b[0mprice\u001b[0m\u001b[0;34m)\u001b[0m\u001b[0;34m,\u001b[0m \u001b[0;34m\"Restock_Level\"\u001b[0m\u001b[0;34m:\u001b[0m \u001b[0mstr\u001b[0m\u001b[0;34m(\u001b[0m\u001b[0mrestock_level\u001b[0m\u001b[0;34m)\u001b[0m\u001b[0;34m}\u001b[0m\u001b[0;34m)\u001b[0m\u001b[0;34m\u001b[0m\u001b[0;34m\u001b[0m\u001b[0m\n\u001b[1;32m     36\u001b[0m     \u001b[0msave_inventory\u001b[0m\u001b[0;34m(\u001b[0m\u001b[0minventory\u001b[0m\u001b[0;34m)\u001b[0m\u001b[0;34m\u001b[0m\u001b[0;34m\u001b[0m\u001b[0m\n",
            "\u001b[0;31mKeyError\u001b[0m: 'ID'"
          ]
        }
      ]
    },
    {
      "cell_type": "code",
      "source": [
        "def add_product(name, category, quantity, price, restock_level):\n",
        "    inventory = load_inventory()\n",
        "    if any(item[\"Name\"].lower() == name.lower() for item in inventory):\n",
        "        print(f\"Error: Product '{name}' already exists!\")\n",
        "        return\n",
        "    if int(quantity) < 0 or float(price) < 0:\n",
        "        print(\"Error: Quantity and price must be non-negative values!\")\n",
        "        return\n",
        "    if int(quantity) < 0 or float(price) < 0:\n",
        "        print(\"Error: Quantity and price must be non-negative values!\")\n",
        "        return\n",
        ""
      ],
      "metadata": {
        "id": "91bPqHyWTtuL"
      },
      "execution_count": 31,
      "outputs": []
    },
    {
      "cell_type": "code",
      "source": [
        "add_product(\"Weird_Product\", \"Appliances\", \"10\", \"50\", \"5\")\n"
      ],
      "metadata": {
        "id": "4V9cOJ0vTzeq"
      },
      "execution_count": 34,
      "outputs": []
    },
    {
      "cell_type": "markdown",
      "source": [
        "if we search for a product which do not exist in the database."
      ],
      "metadata": {
        "id": "Z7jD42s7N5ni"
      }
    },
    {
      "cell_type": "code",
      "source": [
        "search_product(\"heat\")\n"
      ],
      "metadata": {
        "colab": {
          "base_uri": "https://localhost:8080/"
        },
        "id": "xiUWETOQOC84",
        "outputId": "b2ae25a5-3805-46c7-e8e4-ff0dfe74413e"
      },
      "execution_count": 9,
      "outputs": [
        {
          "output_type": "stream",
          "name": "stdout",
          "text": [
            "Search Results: []\n"
          ]
        },
        {
          "output_type": "execute_result",
          "data": {
            "text/plain": [
              "[]"
            ]
          },
          "metadata": {},
          "execution_count": 9
        }
      ]
    },
    {
      "cell_type": "code",
      "source": [
        "def search_product(name):\n",
        "    inventory = load_inventory()\n",
        "    results = [item for item in inventory if name.lower() in item[\"Name\"].lower()]\n",
        "    if not results:\n",
        "        print(f\"No products found matching '{name}'.\")\n",
        "        return\n",
        "    print(\"Search Results:\", results)\n"
      ],
      "metadata": {
        "id": "m4PrTC17T_SX"
      },
      "execution_count": 35,
      "outputs": []
    },
    {
      "cell_type": "code",
      "source": [
        "search_product(\"heat\")\n"
      ],
      "metadata": {
        "colab": {
          "base_uri": "https://localhost:8080/"
        },
        "id": "RwRawEAdUA0F",
        "outputId": "8ac7c0f7-9634-40ba-8b9d-43aea2852859"
      },
      "execution_count": 36,
      "outputs": [
        {
          "output_type": "stream",
          "name": "stdout",
          "text": [
            "No products found matching 'heat'.\n"
          ]
        }
      ]
    },
    {
      "cell_type": "markdown",
      "source": [
        "updating a product name with the empy string or nothing"
      ],
      "metadata": {
        "id": "WyVYihP8OH_5"
      }
    },
    {
      "cell_type": "code",
      "source": [
        "update_product(3, name=\"\")"
      ],
      "metadata": {
        "colab": {
          "base_uri": "https://localhost:8080/",
          "height": 263
        },
        "id": "9idPdCIaOHE8",
        "outputId": "2041d69c-77e2-415b-b5b6-6f3e0f47712a"
      },
      "execution_count": 10,
      "outputs": [
        {
          "output_type": "error",
          "ename": "KeyError",
          "evalue": "'ID'",
          "traceback": [
            "\u001b[0;31m---------------------------------------------------------------------------\u001b[0m",
            "\u001b[0;31mKeyError\u001b[0m                                  Traceback (most recent call last)",
            "\u001b[0;32m<ipython-input-10-686c2a64d8fb>\u001b[0m in \u001b[0;36m<cell line: 0>\u001b[0;34m()\u001b[0m\n\u001b[0;32m----> 1\u001b[0;31m \u001b[0mupdate_product\u001b[0m\u001b[0;34m(\u001b[0m\u001b[0;36m3\u001b[0m\u001b[0;34m,\u001b[0m \u001b[0mname\u001b[0m\u001b[0;34m=\u001b[0m\u001b[0;34m\"\"\u001b[0m\u001b[0;34m)\u001b[0m\u001b[0;34m\u001b[0m\u001b[0;34m\u001b[0m\u001b[0m\n\u001b[0m",
            "\u001b[0;32m<ipython-input-3-bb52abf1d6ce>\u001b[0m in \u001b[0;36mupdate_product\u001b[0;34m(product_id, name, category, quantity, price, restock_level)\u001b[0m\n\u001b[1;32m     48\u001b[0m     \u001b[0minventory\u001b[0m \u001b[0;34m=\u001b[0m \u001b[0mload_inventory\u001b[0m\u001b[0;34m(\u001b[0m\u001b[0;34m)\u001b[0m\u001b[0;34m\u001b[0m\u001b[0;34m\u001b[0m\u001b[0m\n\u001b[1;32m     49\u001b[0m     \u001b[0;32mfor\u001b[0m \u001b[0mitem\u001b[0m \u001b[0;32min\u001b[0m \u001b[0minventory\u001b[0m\u001b[0;34m:\u001b[0m\u001b[0;34m\u001b[0m\u001b[0;34m\u001b[0m\u001b[0m\n\u001b[0;32m---> 50\u001b[0;31m         \u001b[0;32mif\u001b[0m \u001b[0mitem\u001b[0m\u001b[0;34m[\u001b[0m\u001b[0;34m\"ID\"\u001b[0m\u001b[0;34m]\u001b[0m \u001b[0;34m==\u001b[0m \u001b[0mstr\u001b[0m\u001b[0;34m(\u001b[0m\u001b[0mproduct_id\u001b[0m\u001b[0;34m)\u001b[0m\u001b[0;34m:\u001b[0m\u001b[0;34m\u001b[0m\u001b[0;34m\u001b[0m\u001b[0m\n\u001b[0m\u001b[1;32m     51\u001b[0m             \u001b[0;32mif\u001b[0m \u001b[0mname\u001b[0m\u001b[0;34m:\u001b[0m\u001b[0;34m\u001b[0m\u001b[0;34m\u001b[0m\u001b[0m\n\u001b[1;32m     52\u001b[0m                 \u001b[0mitem\u001b[0m\u001b[0;34m[\u001b[0m\u001b[0;34m\"Name\"\u001b[0m\u001b[0;34m]\u001b[0m \u001b[0;34m=\u001b[0m \u001b[0mname\u001b[0m\u001b[0;34m\u001b[0m\u001b[0;34m\u001b[0m\u001b[0m\n",
            "\u001b[0;31mKeyError\u001b[0m: 'ID'"
          ]
        }
      ]
    },
    {
      "cell_type": "code",
      "source": [
        "def update_product(product_id, name=None, category=None, quantity=None, price=None, restock_level=None):\n",
        "    inventory = load_inventory()\n",
        "\n",
        "    # Convert product_id to string to handle different formats\n",
        "    product_id = str(product_id)\n",
        "\n",
        "    found = False\n",
        "    for item in inventory:\n",
        "        if item[\"ID\"] == product_id:\n",
        "            found = True\n",
        "            if name:\n",
        "                item[\"Name\"] = name\n",
        "            if category:\n",
        "                item[\"Category\"] = category\n",
        "            if quantity is not None and str(quantity).isdigit() and int(quantity) >= 0:\n",
        "                item[\"Quantity\"] = str(quantity)\n",
        "            if price is not None and str(price).replace('.', '').isdigit() and float(price) >= 0:\n",
        "                item[\"Price\"] = str(price)\n",
        "            if restock_level is not None and str(restock_level).isdigit():\n",
        "                item[\"Restock_Level\"] = str(restock_level)\n",
        "\n",
        "    if not found:\n",
        "        print(f\"Error: Product ID {product_id} not found!\")\n",
        "        return\n",
        "\n",
        "    save_inventory(inventory)\n",
        "    print(f\"Product {product_id} updated successfully!\")\n"
      ],
      "metadata": {
        "id": "iJVSuo3nURN1"
      },
      "execution_count": 58,
      "outputs": []
    },
    {
      "cell_type": "code",
      "source": [],
      "metadata": {
        "colab": {
          "base_uri": "https://localhost:8080/",
          "height": 141
        },
        "id": "CBSp5lT2UV6U",
        "outputId": "222d1e0b-6b3c-457d-9dc3-9753213b9dce"
      },
      "execution_count": 59,
      "outputs": [
        {
          "output_type": "error",
          "ename": "NameError",
          "evalue": "name 'P001' is not defined",
          "traceback": [
            "\u001b[0;31m---------------------------------------------------------------------------\u001b[0m",
            "\u001b[0;31mNameError\u001b[0m                                 Traceback (most recent call last)",
            "\u001b[0;32m<ipython-input-59-8ce4250acdfa>\u001b[0m in \u001b[0;36m<cell line: 0>\u001b[0;34m()\u001b[0m\n\u001b[0;32m----> 1\u001b[0;31m \u001b[0msearch_product\u001b[0m\u001b[0;34m(\u001b[0m\u001b[0mP001\u001b[0m\u001b[0;34m)\u001b[0m\u001b[0;34m\u001b[0m\u001b[0;34m\u001b[0m\u001b[0m\n\u001b[0m",
            "\u001b[0;31mNameError\u001b[0m: name 'P001' is not defined"
          ]
        }
      ]
    },
    {
      "cell_type": "markdown",
      "source": [
        "limit less prices updating prices with a high amount of price"
      ],
      "metadata": {
        "id": "xmRgSGZxORPg"
      }
    },
    {
      "cell_type": "code",
      "source": [
        "update_product(5, price=100000000)"
      ],
      "metadata": {
        "id": "UinH2ScYOt9y"
      },
      "execution_count": null,
      "outputs": []
    },
    {
      "cell_type": "markdown",
      "source": [
        "giving a category name which is invalid"
      ],
      "metadata": {
        "id": "SzOHND_rO2S6"
      }
    },
    {
      "cell_type": "markdown",
      "source": [
        "coming to the edge cases"
      ],
      "metadata": {
        "id": "JbYLFRoq3KiL"
      }
    },
    {
      "cell_type": "markdown",
      "source": [
        "first of all if we got any out of stock i mean 0 we need to get the out of stock items where we need to just type the out of stock option inside the entry so it is missing so i am going to add it in the generate_report function"
      ],
      "metadata": {
        "id": "iS6vP6O53hc0"
      }
    },
    {
      "cell_type": "markdown",
      "source": [
        "# Question 7 (20 points)\n",
        "\n",
        "Create a well desined Python program for a flight booking system. Offer core functions for adding new flights, finding trips, reserving and releasing seating space and creating performance reports. Ensure the system manages edge cases like invalid input, overbooking, and cancellations. Finally, extend the booking system by including advanced features and maintain about 50 flight in the system."
      ],
      "metadata": {
        "id": "290UJiNg2xES"
      }
    },
    {
      "cell_type": "code",
      "source": [
        "import csv\n",
        "import os\n",
        "\n",
        "FLIGHT_FILE = \"flights.csv\"\n",
        "\n",
        "# Initialize flight data with 50 sample flights\n",
        "def initialize_flights():\n",
        "    if not os.path.exists(FLIGHT_FILE):\n",
        "        with open(FLIGHT_FILE, mode='w', newline='') as file:\n",
        "            writer = csv.writer(file)\n",
        "            writer.writerow([\"FlightNo\", \"Origin\", \"Destination\", \"Seats\", \"BookedSeats\", \"Price\"])\n",
        "            for i in range(1, 51):\n",
        "                writer.writerow([f\"FL{i:03}\", f\"City_{i % 10}\", f\"City_{(i+5) % 10}\", 100, 0, round(200 + i * 5, 2)])\n",
        "\n",
        "# Load flight data from CSV\n",
        "def load_flights():\n",
        "    try:\n",
        "        with open(FLIGHT_FILE, mode='r') as file:\n",
        "            return list(csv.DictReader(file))\n",
        "    except Exception as e:\n",
        "        print(\"Error loading flight data:\", e)\n",
        "        return []\n",
        "\n",
        "# Save flight data back to CSV\n",
        "def save_flights(flights):\n",
        "    with open(FLIGHT_FILE, mode='w', newline='') as file:\n",
        "        writer = csv.DictWriter(file, fieldnames=[\"FlightNo\", \"Origin\", \"Destination\", \"Seats\", \"BookedSeats\", \"Price\"])\n",
        "        writer.writeheader()\n",
        "        writer.writerows(flights)\n",
        "\n",
        "# Add a new flight\n",
        "def add_flight(flight_no, origin, destination, seats, price):\n",
        "    flights = load_flights()\n",
        "    if any(f[\"FlightNo\"] == flight_no for f in flights):\n",
        "        print(\"Error: Flight number already exists!\")\n",
        "        return\n",
        "    flights.append({\"FlightNo\": flight_no, \"Origin\": origin, \"Destination\": destination,\n",
        "                    \"Seats\": str(seats), \"BookedSeats\": \"0\", \"Price\": str(price)})\n",
        "    save_flights(flights)\n",
        "    print(f\"Flight {flight_no} added successfully!\")\n",
        "\n",
        "# Search for a flight\n",
        "def search_flight(origin, destination):\n",
        "    flights = load_flights()\n",
        "    results = [f for f in flights if f[\"Origin\"] == origin and f[\"Destination\"] == destination]\n",
        "    if results:\n",
        "        print(\"Available Flights:\", results)\n",
        "    else:\n",
        "        print(\"No flights found for the given route.\")\n",
        "\n",
        "# Book a seat on a flight\n",
        "def book_seat(flight_no):\n",
        "    flights = load_flights()\n",
        "    for flight in flights:\n",
        "        if flight[\"FlightNo\"] == flight_no:\n",
        "            if int(flight[\"BookedSeats\"]) < int(flight[\"Seats\"]):\n",
        "                flight[\"BookedSeats\"] = str(int(flight[\"BookedSeats\"]) + 1)\n",
        "                save_flights(flights)\n",
        "                print(f\"Seat booked successfully on flight {flight_no}!\")\n",
        "                return\n",
        "            else:\n",
        "                print(\"Error: Flight is fully booked!\")\n",
        "                return\n",
        "    print(\"Error: Flight number not found!\")\n",
        "\n",
        "# Cancel a seat booking\n",
        "def cancel_seat(flight_no):\n",
        "    flights = load_flights()\n",
        "    for flight in flights:\n",
        "        if flight[\"FlightNo\"] == flight_no:\n",
        "            if int(flight[\"BookedSeats\"]) > 0:\n",
        "                flight[\"BookedSeats\"] = str(int(flight[\"BookedSeats\"]) - 1)\n",
        "                save_flights(flights)\n",
        "                print(f\"Booking cancelled on flight {flight_no}!\")\n",
        "                return\n",
        "            else:\n",
        "                print(\"Error: No bookings to cancel!\")\n",
        "                return\n",
        "    print(\"Error: Flight number not found!\")\n",
        "\n",
        "# Generate flight report\n",
        "def generate_report():\n",
        "    flights = load_flights()\n",
        "    total_revenue = sum(float(f[\"Price\"]) * int(f[\"BookedSeats\"]) for f in flights)\n",
        "    print(\"Total Revenue:\", total_revenue)\n",
        "    print(\"Flight Breakdown:\", flights)\n",
        "\n",
        "initialize_flights()\n",
        "\n",
        "\n"
      ],
      "metadata": {
        "id": "dME5iWD53ADa"
      },
      "execution_count": 61,
      "outputs": []
    },
    {
      "cell_type": "markdown",
      "source": [
        "# if we book a flight which do not exist which is booking a flight which is not in database"
      ],
      "metadata": {
        "id": "v71l5FMxWqGe"
      }
    },
    {
      "cell_type": "code",
      "source": [
        "book_seat(\"FL999\")"
      ],
      "metadata": {
        "colab": {
          "base_uri": "https://localhost:8080/"
        },
        "id": "QoBGn47fWpDj",
        "outputId": "0766abb5-865e-4923-d40e-3a3267cb9e29"
      },
      "execution_count": 62,
      "outputs": [
        {
          "output_type": "stream",
          "name": "stdout",
          "text": [
            "Error: Flight number not found!\n"
          ]
        }
      ]
    },
    {
      "cell_type": "code",
      "source": [
        "# here we are validating the number i mean flight number befor booking\n",
        "def book_seat(flight_no):\n",
        "    flights = load_flights()\n",
        "    flight_found = False\n",
        "    for flight in flights:\n",
        "        if flight[\"FlightNo\"] == flight_no:\n",
        "            flight_found = True\n",
        "            if int(flight[\"BookedSeats\"]) < int(flight[\"Seats\"]):\n",
        "                flight[\"BookedSeats\"] = str(int(flight[\"BookedSeats\"]) + 1)\n",
        "                save_flights(flights)\n",
        "                print(f\"Seat booked successfully on flight {flight_no}!\")\n",
        "                return\n",
        "            else:\n",
        "                print(\"Error: Flight is fully booked!\")\n",
        "                return\n",
        "    if not flight_found:\n",
        "        print(f\"Error: Flight {flight_no} not found!\")  # New error message\n"
      ],
      "metadata": {
        "id": "0iVNPXsFWpBs"
      },
      "execution_count": 64,
      "outputs": []
    },
    {
      "cell_type": "code",
      "source": [
        "book_seat(\"FL999\")"
      ],
      "metadata": {
        "colab": {
          "base_uri": "https://localhost:8080/"
        },
        "id": "pR2aNOqFWo_X",
        "outputId": "6a412e5b-fd55-43e4-e013-113afb47185d"
      },
      "execution_count": 65,
      "outputs": [
        {
          "output_type": "stream",
          "name": "stdout",
          "text": [
            "Error: Flight FL999 not found!\n"
          ]
        }
      ]
    },
    {
      "cell_type": "markdown",
      "source": [
        "# another one is we are booking a flight even though the seats are booked"
      ],
      "metadata": {
        "id": "ysoGMS9PXB_b"
      }
    },
    {
      "cell_type": "code",
      "source": [
        "# if int(flight[\"BookedSeats\"]) >= int(flight[\"Seats\"]):\n",
        "#     print(\"Error: Flight is fully booked!\")\n",
        "#     return\n",
        "# we just added this to our main function and get ou of the error"
      ],
      "metadata": {
        "id": "sXrrRKJ-XL_f"
      },
      "execution_count": 84,
      "outputs": []
    },
    {
      "cell_type": "code",
      "source": [
        "for _ in range(101):\n",
        "    book_seat(\"FL001\")\n"
      ],
      "metadata": {
        "colab": {
          "base_uri": "https://localhost:8080/"
        },
        "id": "rJUpoo8TWo9i",
        "outputId": "af1dab93-2652-4025-96fe-c584507438a3"
      },
      "execution_count": 66,
      "outputs": [
        {
          "output_type": "stream",
          "name": "stdout",
          "text": [
            "Seat booked successfully on flight FL001!\n",
            "Seat booked successfully on flight FL001!\n",
            "Seat booked successfully on flight FL001!\n",
            "Seat booked successfully on flight FL001!\n",
            "Seat booked successfully on flight FL001!\n",
            "Seat booked successfully on flight FL001!\n",
            "Seat booked successfully on flight FL001!\n",
            "Seat booked successfully on flight FL001!\n",
            "Seat booked successfully on flight FL001!\n",
            "Seat booked successfully on flight FL001!\n",
            "Seat booked successfully on flight FL001!\n",
            "Seat booked successfully on flight FL001!\n",
            "Seat booked successfully on flight FL001!\n",
            "Seat booked successfully on flight FL001!\n",
            "Seat booked successfully on flight FL001!\n",
            "Seat booked successfully on flight FL001!\n",
            "Seat booked successfully on flight FL001!\n",
            "Seat booked successfully on flight FL001!\n",
            "Seat booked successfully on flight FL001!\n",
            "Seat booked successfully on flight FL001!\n",
            "Seat booked successfully on flight FL001!\n",
            "Seat booked successfully on flight FL001!\n",
            "Seat booked successfully on flight FL001!\n",
            "Seat booked successfully on flight FL001!\n",
            "Seat booked successfully on flight FL001!\n",
            "Seat booked successfully on flight FL001!\n",
            "Seat booked successfully on flight FL001!\n",
            "Seat booked successfully on flight FL001!\n",
            "Seat booked successfully on flight FL001!\n",
            "Seat booked successfully on flight FL001!\n",
            "Seat booked successfully on flight FL001!\n",
            "Seat booked successfully on flight FL001!\n",
            "Seat booked successfully on flight FL001!\n",
            "Seat booked successfully on flight FL001!\n",
            "Seat booked successfully on flight FL001!\n",
            "Seat booked successfully on flight FL001!\n",
            "Seat booked successfully on flight FL001!\n",
            "Seat booked successfully on flight FL001!\n",
            "Seat booked successfully on flight FL001!\n",
            "Seat booked successfully on flight FL001!\n",
            "Seat booked successfully on flight FL001!\n",
            "Seat booked successfully on flight FL001!\n",
            "Seat booked successfully on flight FL001!\n",
            "Seat booked successfully on flight FL001!\n",
            "Seat booked successfully on flight FL001!\n",
            "Seat booked successfully on flight FL001!\n",
            "Seat booked successfully on flight FL001!\n",
            "Seat booked successfully on flight FL001!\n",
            "Seat booked successfully on flight FL001!\n",
            "Seat booked successfully on flight FL001!\n",
            "Seat booked successfully on flight FL001!\n",
            "Seat booked successfully on flight FL001!\n",
            "Seat booked successfully on flight FL001!\n",
            "Seat booked successfully on flight FL001!\n",
            "Seat booked successfully on flight FL001!\n",
            "Seat booked successfully on flight FL001!\n",
            "Seat booked successfully on flight FL001!\n",
            "Seat booked successfully on flight FL001!\n",
            "Seat booked successfully on flight FL001!\n",
            "Seat booked successfully on flight FL001!\n",
            "Seat booked successfully on flight FL001!\n",
            "Seat booked successfully on flight FL001!\n",
            "Seat booked successfully on flight FL001!\n",
            "Seat booked successfully on flight FL001!\n",
            "Seat booked successfully on flight FL001!\n",
            "Seat booked successfully on flight FL001!\n",
            "Seat booked successfully on flight FL001!\n",
            "Seat booked successfully on flight FL001!\n",
            "Seat booked successfully on flight FL001!\n",
            "Seat booked successfully on flight FL001!\n",
            "Seat booked successfully on flight FL001!\n",
            "Seat booked successfully on flight FL001!\n",
            "Seat booked successfully on flight FL001!\n",
            "Seat booked successfully on flight FL001!\n",
            "Seat booked successfully on flight FL001!\n",
            "Seat booked successfully on flight FL001!\n",
            "Seat booked successfully on flight FL001!\n",
            "Seat booked successfully on flight FL001!\n",
            "Seat booked successfully on flight FL001!\n",
            "Seat booked successfully on flight FL001!\n",
            "Seat booked successfully on flight FL001!\n",
            "Seat booked successfully on flight FL001!\n",
            "Seat booked successfully on flight FL001!\n",
            "Seat booked successfully on flight FL001!\n",
            "Seat booked successfully on flight FL001!\n",
            "Seat booked successfully on flight FL001!\n",
            "Seat booked successfully on flight FL001!\n",
            "Seat booked successfully on flight FL001!\n",
            "Seat booked successfully on flight FL001!\n",
            "Seat booked successfully on flight FL001!\n",
            "Seat booked successfully on flight FL001!\n",
            "Seat booked successfully on flight FL001!\n",
            "Seat booked successfully on flight FL001!\n",
            "Seat booked successfully on flight FL001!\n",
            "Seat booked successfully on flight FL001!\n",
            "Seat booked successfully on flight FL001!\n",
            "Seat booked successfully on flight FL001!\n",
            "Seat booked successfully on flight FL001!\n",
            "Seat booked successfully on flight FL001!\n",
            "Seat booked successfully on flight FL001!\n",
            "Error: Flight is fully booked!\n"
          ]
        }
      ]
    },
    {
      "cell_type": "markdown",
      "source": [
        "# canceling a ticket like if we do not book for a flight i mean trying to delete sone others to prevent that keeping track of booked_seats to 0"
      ],
      "metadata": {
        "id": "6ZqW-ESCXVbc"
      }
    },
    {
      "cell_type": "code",
      "source": [
        "def cancel_seat(flight_no):\n",
        "    flights = load_flights()\n",
        "    for flight in flights:\n",
        "        if flight[\"FlightNo\"] == flight_no:\n",
        "            if int(flight[\"BookedSeats\"]) > 0:\n",
        "                flight[\"BookedSeats\"] = str(int(flight[\"BookedSeats\"]) - 1)\n",
        "                save_flights(flights)\n",
        "                print(f\"Booking cancelled on flight {flight_no}!\")\n",
        "                return\n",
        "            else:\n",
        "                print(\"Error: No bookings to cancel!\")\n",
        "                return\n",
        "            if int(flight[\"BookedSeats\"]) == 0:\n",
        "               print(\"Error: No bookings to cancel!\")\n",
        "               return\n",
        "\n",
        "    print(\"Error: Flight number not found!\")\n"
      ],
      "metadata": {
        "id": "alwEUM5dWo7f"
      },
      "execution_count": 70,
      "outputs": []
    },
    {
      "cell_type": "code",
      "source": [
        "cancel_seat(\"FL010\")  # No bookings exist\n"
      ],
      "metadata": {
        "colab": {
          "base_uri": "https://localhost:8080/"
        },
        "id": "vS3rUgJtWo5o",
        "outputId": "c682802c-d71a-4106-f275-3fd938ee710d"
      },
      "execution_count": 72,
      "outputs": [
        {
          "output_type": "stream",
          "name": "stdout",
          "text": [
            "Error: No bookings to cancel!\n"
          ]
        }
      ]
    },
    {
      "cell_type": "markdown",
      "source": [
        "ensuring the correct flight number format and we can use regex expressions to ensure the correct format of the flight number"
      ],
      "metadata": {
        "id": "usWVY2MlYjCI"
      }
    },
    {
      "cell_type": "code",
      "source": [
        "import re\n",
        "\n",
        "def is_valid_flight_no(flight_no):\n",
        "    return bool(re.match(r\"FL\\d{3}$\", flight_no))\n",
        "\n",
        "    if not is_valid_flight_no(flight_no):\n",
        "      print(\"Error: Invalid flight number format! Use FLXXX.\")\n",
        "      return\n"
      ],
      "metadata": {
        "id": "J7VWeRCPWo3j"
      },
      "execution_count": 74,
      "outputs": []
    },
    {
      "cell_type": "code",
      "source": [
        "book_seat(\"ABC123\")  # Invalid format\n"
      ],
      "metadata": {
        "colab": {
          "base_uri": "https://localhost:8080/"
        },
        "id": "Fa100OPFWox0",
        "outputId": "1866f12f-e90e-4048-ea82-d4ad39da6662"
      },
      "execution_count": 75,
      "outputs": [
        {
          "output_type": "stream",
          "name": "stdout",
          "text": [
            "Error: Flight ABC123 not found!\n"
          ]
        }
      ]
    },
    {
      "cell_type": "markdown",
      "source": [
        "#duplicating flight numbers and we can actually get it by fixing the flight numbers and checking while adding."
      ],
      "metadata": {
        "id": "umbguHReZEC5"
      }
    },
    {
      "cell_type": "code",
      "source": [
        "def add_flight(flight_no, origin, destination, seats, price):\n",
        "    flights = load_flights()\n",
        "    if any(f[\"FlightNo\"] == flight_no for f in flights):\n",
        "        print(\"Error: Flight number already exists!\")\n",
        "        return\n",
        "    flights.append({\"FlightNo\": flight_no, \"Origin\": origin, \"Destination\": destination,\n",
        "                    \"Seats\": str(seats), \"BookedSeats\": \"0\", \"Price\": str(price)})\n",
        "    save_flights(flights)\n",
        "    print(f\"Flight {flight_no} added successfully!\")\n",
        "    if any(f[\"FlightNo\"] == flight_no for f in flights):\n",
        "      print(\"Error: Flight number already exists!\")\n",
        "      return\n",
        "\n"
      ],
      "metadata": {
        "id": "MpJctzpjWove"
      },
      "execution_count": 76,
      "outputs": []
    },
    {
      "cell_type": "code",
      "source": [
        "add_flight(\"FL001\", \"City_A\", \"City_B\", 150, 500)\n"
      ],
      "metadata": {
        "colab": {
          "base_uri": "https://localhost:8080/"
        },
        "id": "PU6OXDhGWotq",
        "outputId": "a6ae86e1-d771-49e6-c056-d84bfab55d68"
      },
      "execution_count": 77,
      "outputs": [
        {
          "output_type": "stream",
          "name": "stdout",
          "text": [
            "Error: Flight number already exists!\n"
          ]
        }
      ]
    },
    {
      "cell_type": "markdown",
      "source": [
        "# searching for some flight routes which even dont exist and we get rid of this by cheking stuff in search_flight()"
      ],
      "metadata": {
        "id": "sMuMFaT_Zevt"
      }
    },
    {
      "cell_type": "code",
      "source": [
        "def search_flight(origin, destination):\n",
        "    flights = load_flights()\n",
        "    results = [f for f in flights if f[\"Origin\"] == origin and f[\"Destination\"] == destination]\n",
        "    if results:\n",
        "        print(\"Available Flights:\", results)\n",
        "    else:\n",
        "        print(\"No flights found for the given route.\")\n",
        "\n",
        "    if not results:\n",
        "      print(\"No flights found for the given route.\")\n",
        ""
      ],
      "metadata": {
        "id": "qPi1ruwvWorW"
      },
      "execution_count": 78,
      "outputs": []
    },
    {
      "cell_type": "code",
      "source": [
        "search_flight(\"City_X\", \"City_Y\")  # Route does not exist\n"
      ],
      "metadata": {
        "colab": {
          "base_uri": "https://localhost:8080/"
        },
        "id": "H7K8P9eCZv_o",
        "outputId": "9adb851f-bf0b-4a52-899b-9686653fc629"
      },
      "execution_count": 79,
      "outputs": [
        {
          "output_type": "stream",
          "name": "stdout",
          "text": [
            "No flights found for the given route.\n",
            "No flights found for the given route.\n"
          ]
        }
      ]
    },
    {
      "cell_type": "markdown",
      "source": [
        "# using some of the values which are not numeric and solution for this is to implement a valid ty catch"
      ],
      "metadata": {
        "id": "7mKOzmLzZyPo"
      }
    },
    {
      "cell_type": "code",
      "source": [
        "def add_flight(flight_no, origin, destination, seats, price):\n",
        "    flights = load_flights()\n",
        "    if any(f[\"FlightNo\"] == flight_no for f in flights):\n",
        "        print(\"Error: Flight number already exists!\")\n",
        "        return\n",
        "    flights.append({\"FlightNo\": flight_no, \"Origin\": origin, \"Destination\": destination,\n",
        "                    \"Seats\": str(seats), \"BookedSeats\": \"0\", \"Price\": str(price)})\n",
        "    save_flights(flights)\n",
        "    print(f\"Flight {flight_no} added successfully!\")\n",
        "    try:\n",
        "      seats = int(seats)\n",
        "      price = float(price)\n",
        "    except ValueError:\n",
        "      print(\"Error: Seats and Price must be numeric values!\")\n",
        "      return\n"
      ],
      "metadata": {
        "id": "kkaoDbLBZ8Ez"
      },
      "execution_count": 80,
      "outputs": []
    },
    {
      "cell_type": "code",
      "source": [
        "\n",
        "\n",
        "add_flight(\"FL051\", \"City_A\", \"City_B\", \"one hundred\", \"five hundred\")\n"
      ],
      "metadata": {
        "colab": {
          "base_uri": "https://localhost:8080/"
        },
        "id": "KF8CNGhXaSyr",
        "outputId": "f633969a-7f68-4bfa-d9fd-93fc521329f5"
      },
      "execution_count": 81,
      "outputs": [
        {
          "output_type": "stream",
          "name": "stdout",
          "text": [
            "Flight FL051 added successfully!\n",
            "Error: Seats and Price must be numeric values!\n"
          ]
        }
      ]
    },
    {
      "cell_type": "markdown",
      "source": [
        "# unfortunately if we get very large values for seat number so we need a brerak"
      ],
      "metadata": {
        "id": "sbTCamaUagZz"
      }
    },
    {
      "cell_type": "code",
      "source": [
        "def add_flight(flight_no, origin, destination, seats, price):\n",
        "    flights = load_flights()\n",
        "    if any(f[\"FlightNo\"] == flight_no for f in flights):\n",
        "        print(\"Error: Flight number already exists!\")\n",
        "        return\n",
        "    flights.append({\"FlightNo\": flight_no, \"Origin\": origin, \"Destination\": destination,\n",
        "                    \"Seats\": str(seats), \"BookedSeats\": \"0\", \"Price\": str(price)})\n",
        "    save_flights(flights)\n",
        "    print(f\"Flight {flight_no} added successfully!\")\n",
        "    try:\n",
        "      seats = int(seats)\n",
        "      price = float(price)\n",
        "    except ValueError:\n",
        "      print(\"Error: Seats and Price must be numeric values!\")\n",
        "      return\n",
        "      if seats > 500:\n",
        "        print(\"Error: Maximum seat capacity exceeded!\")\n",
        "        return\n",
        "\n",
        "\n"
      ],
      "metadata": {
        "id": "YUXsJ6I4agNV"
      },
      "execution_count": 82,
      "outputs": []
    },
    {
      "cell_type": "code",
      "source": [
        "add_flight(\"FL052\", \"City_A\", \"City_B\", 1000000, 5000)\n"
      ],
      "metadata": {
        "colab": {
          "base_uri": "https://localhost:8080/"
        },
        "id": "arDgYuIKaz8s",
        "outputId": "03288996-3dd1-4157-d7b9-8e41bd708549"
      },
      "execution_count": 83,
      "outputs": [
        {
          "output_type": "stream",
          "name": "stdout",
          "text": [
            "Flight FL052 added successfully!\n"
          ]
        }
      ]
    },
    {
      "cell_type": "markdown",
      "source": [
        "# Mandatory Question\n",
        "\n",
        "Provide your thoughts on the assignment. What did you find challenging, and what aspects did you enjoy? Your opinion on the provided time to complete the assignment. Share any suggestions for improvement. Your feedback will be valuable for enhancing the learning experience."
      ],
      "metadata": {
        "id": "q8BFCvWp32cf"
      }
    },
    {
      "cell_type": "markdown",
      "source": [
        "# Write your response below\n",
        "challenges faced as of now are first few code snippets are very cool and easy like formulae applying and stuff but while coming to other kind of confused for last 2 questions as they are asking for the edge cases by thinking edge cases, as the ai giving all the edge cases included there is some tough time thinking of the edgecases and there is a limit for the edge cases which is around 10 for each so finding those things are a bit difficult. and coming to the time provided is fine but a little bit extension for the first is appreciated. giving some extra time is good for every one as people who are learning now can get some more time to do stuff clearly. For the final 2 questions i did in a differnt way by corecting the edge cases by the following updated code snippets."
      ],
      "metadata": {
        "id": "5LfbDSbZGBb1"
      }
    }
  ],
  "metadata": {
    "colab": {
      "provenance": [],
      "include_colab_link": true
    },
    "kernelspec": {
      "display_name": "Python 3 (ipykernel)",
      "language": "python",
      "name": "python3"
    },
    "language_info": {
      "codemirror_mode": {
        "name": "ipython",
        "version": 3
      },
      "file_extension": ".py",
      "mimetype": "text/x-python",
      "name": "python",
      "nbconvert_exporter": "python",
      "pygments_lexer": "ipython3",
      "version": "3.9.12"
    }
  },
  "nbformat": 4,
  "nbformat_minor": 0
}